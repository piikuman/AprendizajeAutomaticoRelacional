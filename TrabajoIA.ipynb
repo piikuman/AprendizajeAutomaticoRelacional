{
 "cells": [
  {
   "cell_type": "markdown",
   "metadata": {},
   "source": [
    "LECTURA DE DATOS"
   ]
  },
  {
   "cell_type": "code",
   "execution_count": 1,
   "metadata": {},
   "outputs": [],
   "source": [
    "import pandas\n",
    "import numpy\n",
    "#Tras realizar los imports de pandas y nunpy que necesitaremos, usamos el método read_csv para leer nuestro csv.El parámetro\n",
    "#skiprow=1 nos sirve para saltarnos la primera línea que son el nombre de las columnas.\n",
    "quakers = pandas.read_csv('quakers_nodelist.csv', skiprows=1, header=None,\n",
    "                       names=['name', 'historical_significance', 'gender', 'birthdate',\n",
    "                              'deathdate', 'id'])"
   ]
  },
  {
   "cell_type": "code",
   "execution_count": 2,
   "metadata": {},
   "outputs": [
    {
     "data": {
      "text/html": [
       "<div>\n",
       "<style scoped>\n",
       "    .dataframe tbody tr th:only-of-type {\n",
       "        vertical-align: middle;\n",
       "    }\n",
       "\n",
       "    .dataframe tbody tr th {\n",
       "        vertical-align: top;\n",
       "    }\n",
       "\n",
       "    .dataframe thead th {\n",
       "        text-align: right;\n",
       "    }\n",
       "</style>\n",
       "<table border=\"1\" class=\"dataframe\">\n",
       "  <thead>\n",
       "    <tr style=\"text-align: right;\">\n",
       "      <th></th>\n",
       "      <th>name</th>\n",
       "      <th>historical_significance</th>\n",
       "      <th>gender</th>\n",
       "      <th>birthdate</th>\n",
       "      <th>deathdate</th>\n",
       "      <th>id</th>\n",
       "    </tr>\n",
       "  </thead>\n",
       "  <tbody>\n",
       "    <tr>\n",
       "      <th>0</th>\n",
       "      <td>Joseph Wyeth</td>\n",
       "      <td>religious writer</td>\n",
       "      <td>male</td>\n",
       "      <td>1663</td>\n",
       "      <td>1731</td>\n",
       "      <td>10013191</td>\n",
       "    </tr>\n",
       "    <tr>\n",
       "      <th>1</th>\n",
       "      <td>Alexander Skene of Newtyle</td>\n",
       "      <td>local politician and author</td>\n",
       "      <td>male</td>\n",
       "      <td>1621</td>\n",
       "      <td>1694</td>\n",
       "      <td>10011149</td>\n",
       "    </tr>\n",
       "    <tr>\n",
       "      <th>2</th>\n",
       "      <td>James Logan</td>\n",
       "      <td>colonial official and scholar</td>\n",
       "      <td>male</td>\n",
       "      <td>1674</td>\n",
       "      <td>1751</td>\n",
       "      <td>10007567</td>\n",
       "    </tr>\n",
       "    <tr>\n",
       "      <th>3</th>\n",
       "      <td>Dorcas Erbery</td>\n",
       "      <td>Quaker preacher</td>\n",
       "      <td>female</td>\n",
       "      <td>1656</td>\n",
       "      <td>1659</td>\n",
       "      <td>10003983</td>\n",
       "    </tr>\n",
       "    <tr>\n",
       "      <th>4</th>\n",
       "      <td>Lilias Skene</td>\n",
       "      <td>Quaker preacher and poet</td>\n",
       "      <td>male</td>\n",
       "      <td>1626</td>\n",
       "      <td>1697</td>\n",
       "      <td>10011152</td>\n",
       "    </tr>\n",
       "    <tr>\n",
       "      <th>...</th>\n",
       "      <td>...</td>\n",
       "      <td>...</td>\n",
       "      <td>...</td>\n",
       "      <td>...</td>\n",
       "      <td>...</td>\n",
       "      <td>...</td>\n",
       "    </tr>\n",
       "    <tr>\n",
       "      <th>114</th>\n",
       "      <td>Thomas Ellwood</td>\n",
       "      <td>religious controversialist</td>\n",
       "      <td>male</td>\n",
       "      <td>1639</td>\n",
       "      <td>1713</td>\n",
       "      <td>10003945</td>\n",
       "    </tr>\n",
       "    <tr>\n",
       "      <th>115</th>\n",
       "      <td>William Simpson</td>\n",
       "      <td>Quaker preacher</td>\n",
       "      <td>male</td>\n",
       "      <td>1627</td>\n",
       "      <td>1671</td>\n",
       "      <td>10011114</td>\n",
       "    </tr>\n",
       "    <tr>\n",
       "      <th>116</th>\n",
       "      <td>Samuel Bownas</td>\n",
       "      <td>Quaker minister and writer</td>\n",
       "      <td>male</td>\n",
       "      <td>1677</td>\n",
       "      <td>1753</td>\n",
       "      <td>10001390</td>\n",
       "    </tr>\n",
       "    <tr>\n",
       "      <th>117</th>\n",
       "      <td>John Perrot</td>\n",
       "      <td>Quaker schismatic</td>\n",
       "      <td>male</td>\n",
       "      <td>1555</td>\n",
       "      <td>1665</td>\n",
       "      <td>10009584</td>\n",
       "    </tr>\n",
       "    <tr>\n",
       "      <th>118</th>\n",
       "      <td>Hannah Stranger</td>\n",
       "      <td>Quaker missionary</td>\n",
       "      <td>female</td>\n",
       "      <td>1656</td>\n",
       "      <td>1671</td>\n",
       "      <td>10011632</td>\n",
       "    </tr>\n",
       "  </tbody>\n",
       "</table>\n",
       "<p>119 rows × 6 columns</p>\n",
       "</div>"
      ],
      "text/plain": [
       "                           name        historical_significance  gender  \\\n",
       "0                  Joseph Wyeth               religious writer    male   \n",
       "1    Alexander Skene of Newtyle    local politician and author    male   \n",
       "2                   James Logan  colonial official and scholar    male   \n",
       "3                 Dorcas Erbery                Quaker preacher  female   \n",
       "4                  Lilias Skene       Quaker preacher and poet    male   \n",
       "..                          ...                            ...     ...   \n",
       "114              Thomas Ellwood     religious controversialist    male   \n",
       "115             William Simpson                Quaker preacher    male   \n",
       "116               Samuel Bownas     Quaker minister and writer    male   \n",
       "117                 John Perrot              Quaker schismatic    male   \n",
       "118             Hannah Stranger              Quaker missionary  female   \n",
       "\n",
       "     birthdate  deathdate        id  \n",
       "0         1663       1731  10013191  \n",
       "1         1621       1694  10011149  \n",
       "2         1674       1751  10007567  \n",
       "3         1656       1659  10003983  \n",
       "4         1626       1697  10011152  \n",
       "..         ...        ...       ...  \n",
       "114       1639       1713  10003945  \n",
       "115       1627       1671  10011114  \n",
       "116       1677       1753  10001390  \n",
       "117       1555       1665  10009584  \n",
       "118       1656       1671  10011632  \n",
       "\n",
       "[119 rows x 6 columns]"
      ]
     },
     "execution_count": 2,
     "metadata": {},
     "output_type": "execute_result"
    }
   ],
   "source": [
    "quakers"
   ]
  },
  {
   "cell_type": "code",
   "execution_count": 3,
   "metadata": {},
   "outputs": [
    {
     "data": {
      "text/html": [
       "<div>\n",
       "<style scoped>\n",
       "    .dataframe tbody tr th:only-of-type {\n",
       "        vertical-align: middle;\n",
       "    }\n",
       "\n",
       "    .dataframe tbody tr th {\n",
       "        vertical-align: top;\n",
       "    }\n",
       "\n",
       "    .dataframe thead th {\n",
       "        text-align: right;\n",
       "    }\n",
       "</style>\n",
       "<table border=\"1\" class=\"dataframe\">\n",
       "  <thead>\n",
       "    <tr style=\"text-align: right;\">\n",
       "      <th></th>\n",
       "      <th>name</th>\n",
       "      <th>historical_significance</th>\n",
       "      <th>gender</th>\n",
       "      <th>birthdate</th>\n",
       "      <th>deathdate</th>\n",
       "      <th>id</th>\n",
       "    </tr>\n",
       "  </thead>\n",
       "  <tbody>\n",
       "    <tr>\n",
       "      <th>0</th>\n",
       "      <td>Joseph Wyeth</td>\n",
       "      <td>religious writer</td>\n",
       "      <td>male</td>\n",
       "      <td>1663</td>\n",
       "      <td>1731</td>\n",
       "      <td>10013191</td>\n",
       "    </tr>\n",
       "    <tr>\n",
       "      <th>1</th>\n",
       "      <td>Alexander Skene of Newtyle</td>\n",
       "      <td>local politician and author</td>\n",
       "      <td>male</td>\n",
       "      <td>1621</td>\n",
       "      <td>1694</td>\n",
       "      <td>10011149</td>\n",
       "    </tr>\n",
       "    <tr>\n",
       "      <th>2</th>\n",
       "      <td>James Logan</td>\n",
       "      <td>colonial official and scholar</td>\n",
       "      <td>male</td>\n",
       "      <td>1674</td>\n",
       "      <td>1751</td>\n",
       "      <td>10007567</td>\n",
       "    </tr>\n",
       "    <tr>\n",
       "      <th>3</th>\n",
       "      <td>Dorcas Erbery</td>\n",
       "      <td>Quaker preacher</td>\n",
       "      <td>female</td>\n",
       "      <td>1656</td>\n",
       "      <td>1659</td>\n",
       "      <td>10003983</td>\n",
       "    </tr>\n",
       "    <tr>\n",
       "      <th>4</th>\n",
       "      <td>Lilias Skene</td>\n",
       "      <td>Quaker preacher and poet</td>\n",
       "      <td>male</td>\n",
       "      <td>1626</td>\n",
       "      <td>1697</td>\n",
       "      <td>10011152</td>\n",
       "    </tr>\n",
       "    <tr>\n",
       "      <th>5</th>\n",
       "      <td>William Mucklow</td>\n",
       "      <td>religious writer</td>\n",
       "      <td>male</td>\n",
       "      <td>1630</td>\n",
       "      <td>1713</td>\n",
       "      <td>10008595</td>\n",
       "    </tr>\n",
       "    <tr>\n",
       "      <th>6</th>\n",
       "      <td>Thomas Salthouse</td>\n",
       "      <td>Quaker preacher and writer</td>\n",
       "      <td>male</td>\n",
       "      <td>1630</td>\n",
       "      <td>1691</td>\n",
       "      <td>10010643</td>\n",
       "    </tr>\n",
       "    <tr>\n",
       "      <th>7</th>\n",
       "      <td>William Dewsbury</td>\n",
       "      <td>Quaker activist</td>\n",
       "      <td>male</td>\n",
       "      <td>1621</td>\n",
       "      <td>1688</td>\n",
       "      <td>10003478</td>\n",
       "    </tr>\n",
       "    <tr>\n",
       "      <th>8</th>\n",
       "      <td>John Audland</td>\n",
       "      <td>Quaker preacher</td>\n",
       "      <td>male</td>\n",
       "      <td>1630</td>\n",
       "      <td>1664</td>\n",
       "      <td>10000411</td>\n",
       "    </tr>\n",
       "    <tr>\n",
       "      <th>9</th>\n",
       "      <td>Richard Claridge</td>\n",
       "      <td>Quaker minister and schoolmaster</td>\n",
       "      <td>male</td>\n",
       "      <td>1649</td>\n",
       "      <td>1723</td>\n",
       "      <td>10002469</td>\n",
       "    </tr>\n",
       "  </tbody>\n",
       "</table>\n",
       "</div>"
      ],
      "text/plain": [
       "                         name           historical_significance  gender  \\\n",
       "0                Joseph Wyeth                  religious writer    male   \n",
       "1  Alexander Skene of Newtyle       local politician and author    male   \n",
       "2                 James Logan     colonial official and scholar    male   \n",
       "3               Dorcas Erbery                   Quaker preacher  female   \n",
       "4                Lilias Skene          Quaker preacher and poet    male   \n",
       "5             William Mucklow                  religious writer    male   \n",
       "6            Thomas Salthouse        Quaker preacher and writer    male   \n",
       "7            William Dewsbury                   Quaker activist    male   \n",
       "8                John Audland                   Quaker preacher    male   \n",
       "9            Richard Claridge  Quaker minister and schoolmaster    male   \n",
       "\n",
       "   birthdate  deathdate        id  \n",
       "0       1663       1731  10013191  \n",
       "1       1621       1694  10011149  \n",
       "2       1674       1751  10007567  \n",
       "3       1656       1659  10003983  \n",
       "4       1626       1697  10011152  \n",
       "5       1630       1713  10008595  \n",
       "6       1630       1691  10010643  \n",
       "7       1621       1688  10003478  \n",
       "8       1630       1664  10000411  \n",
       "9       1649       1723  10002469  "
      ]
     },
     "execution_count": 3,
     "metadata": {},
     "output_type": "execute_result"
    }
   ],
   "source": [
    "# 10 primeras filas\n",
    "quakers.head(10)"
   ]
  },
  {
   "cell_type": "markdown",
   "metadata": {},
   "source": [
    "GRAFO"
   ]
  },
  {
   "cell_type": "code",
   "execution_count": 4,
   "metadata": {},
   "outputs": [],
   "source": [
    "#Creamos un grafo vacío\n",
    "import networkx as nx\n",
    "G=nx.Graph()"
   ]
  },
  {
   "cell_type": "code",
   "execution_count": 5,
   "metadata": {},
   "outputs": [],
   "source": [
    "#Leemos el fichero\n",
    "df = pandas.read_csv('quakers_edgelist.csv')"
   ]
  },
  {
   "cell_type": "code",
   "execution_count": 6,
   "metadata": {},
   "outputs": [],
   "source": [
    "#Definimos cada una de las partes de la que se compone el fichero y lo dividimos en fuente y destino.\n",
    "df1 = df[['Source', 'Target']]"
   ]
  },
  {
   "cell_type": "code",
   "execution_count": 7,
   "metadata": {},
   "outputs": [],
   "source": [
    "#Formamos el grafo\n",
    "G = nx.from_pandas_edgelist(df1, 'Source', 'Target')"
   ]
  },
  {
   "cell_type": "code",
   "execution_count": 8,
   "metadata": {},
   "outputs": [
    {
     "data": {
      "text/plain": [
       "174"
      ]
     },
     "execution_count": 8,
     "metadata": {},
     "output_type": "execute_result"
    }
   ],
   "source": [
    "#Nos aseguramos que los datos corresponden con lo que se imprime por pantalla\n",
    "G.number_of_edges()"
   ]
  },
  {
   "cell_type": "code",
   "execution_count": 9,
   "metadata": {},
   "outputs": [
    {
     "data": {
      "text/plain": [
       "119"
      ]
     },
     "execution_count": 9,
     "metadata": {},
     "output_type": "execute_result"
    }
   ],
   "source": [
    "G.number_of_nodes()"
   ]
  },
  {
   "cell_type": "code",
   "execution_count": 10,
   "metadata": {},
   "outputs": [],
   "source": [
    "#Como vemos tenemos 119 nodos y 174 aristas."
   ]
  },
  {
   "cell_type": "code",
   "execution_count": 11,
   "metadata": {},
   "outputs": [
    {
     "data": {
      "image/png": "[encoded data removed]",
      "text/plain": [
       "<Figure size 720x576 with 1 Axes>"
      ]
     },
     "metadata": {},
     "output_type": "display_data"
    }
   ],
   "source": [
    "#Aquí está la representaciñon del grafo.\n",
    "from matplotlib.pyplot import figure\n",
    "figure(figsize=(10, 8))\n",
    "nx.draw_spring(G, with_labels=True)"
   ]
  },
  {
   "cell_type": "markdown",
   "metadata": {},
   "source": [
    "MÉTODO KNN"
   ]
  },
  {
   "cell_type": "code",
   "execution_count": 12,
   "metadata": {},
   "outputs": [],
   "source": [
    "from sklearn import preprocessing\n",
    "\n",
    "atributos = quakers.loc[:, 'birthdate':'deathdate']  # selección de las columnas de atributos\n",
    "objetivo = quakers['gender']  # selección de la columna objetivo"
   ]
  },
  {
   "cell_type": "code",
   "execution_count": 13,
   "metadata": {},
   "outputs": [
    {
     "name": "stdout",
     "output_type": "stream",
     "text": [
      "{1: 0.696969696969697, 2: 0.6303030303030304, 3: 0.7568181818181818, 4: 0.7318181818181817, 5: 0.7818181818181819, 6: 0.7818181818181819, 7: 0.8151515151515152, 8: 0.7984848484848486, 9: 0.8151515151515152, 10: 0.8151515151515152}\n",
      "7\n"
     ]
    }
   ],
   "source": [
    "from sklearn import model_selection\n",
    "from sklearn import neighbors\n",
    "#Primero creamos un diccionario vacío al que llamaremos cv_score_kNN que será donde se almacene nuestro resultado\n",
    "cv_scores_kNN = {}\n",
    "for k in range(1,11):\n",
    "    #Obtenemos el clasificador necesario para el método KNN y le pasamos los numeros del 1,10 con el for anterior\n",
    "    clasif_kNN = neighbors.KNeighborsClassifier(n_neighbors=k, metric='hamming')\n",
    "    #Le aplicamos la validación cruzada\n",
    "    cv_scores = model_selection.cross_val_score(clasif_kNN,\n",
    "                                                atributos,\n",
    "                                                objetivo,\n",
    "                                               cv=10)\n",
    "    cv_scores_kNN[k] = cv_scores.mean()\n",
    "#El socore nos devuelve el accuracy, es decir la exactitud.\n",
    "print(cv_scores_kNN)\n",
    "#De los métodos que nos devuelven escogemos el mayor y que nos devuelva su índice.\n",
    "print(max(cv_scores_kNN, key=cv_scores_kNN.get))"
   ]
  },
  {
   "cell_type": "code",
   "execution_count": 14,
   "metadata": {},
   "outputs": [
    {
     "data": {
      "text/plain": [
       "0.8235294117647058"
      ]
     },
     "execution_count": 14,
     "metadata": {},
     "output_type": "execute_result"
    }
   ],
   "source": [
    "#Seleccionamos el valor máximo que hemos obtenido anteriormente\n",
    "clasif_kNN = neighbors.KNeighborsClassifier(n_neighbors=7, metric='hamming')\n",
    "#Le pasamos fit para codificar o decodificar los datos\n",
    "clasif_kNN.fit(atributos,objetivo)\n",
    "#Por último obtenemos la exactitud correspondiente\n",
    "clasif_kNN.score(atributos, objetivo)"
   ]
  },
  {
   "cell_type": "code",
   "execution_count": 15,
   "metadata": {},
   "outputs": [
    {
     "name": "stdout",
     "output_type": "stream",
     "text": [
      "0.82 accuracy\n"
     ]
    }
   ],
   "source": [
    "print(\"%0.2f accuracy\" % (cv_scores.mean()))"
   ]
  },
  {
   "cell_type": "markdown",
   "metadata": {},
   "source": [
    "Relaciones"
   ]
  },
  {
   "cell_type": "code",
   "execution_count": 16,
   "metadata": {},
   "outputs": [],
   "source": [
    "import networkx as nx\n",
    "cn = nx.degree_centrality(G)"
   ]
  },
  {
   "cell_type": "code",
   "execution_count": 17,
   "metadata": {},
   "outputs": [],
   "source": [
    "cl = nx.clustering(G)"
   ]
  },
  {
   "cell_type": "code",
   "execution_count": 18,
   "metadata": {},
   "outputs": [],
   "source": [
    "# print(cm)\n",
    "bc = nx.betweenness_centrality(G)"
   ]
  },
  {
   "cell_type": "code",
   "execution_count": 19,
   "metadata": {},
   "outputs": [],
   "source": [
    "gr = G.degree"
   ]
  },
  {
   "cell_type": "code",
   "execution_count": 20,
   "metadata": {},
   "outputs": [],
   "source": [
    "quakers_relacional = pandas.read_csv('quakers_nodelist.csv', skiprows=1, header=None,\n",
    "                       names=['name', 'historical_significance', 'gender', 'birthdate',\n",
    "                              'deathdate', 'id'])"
   ]
  },
  {
   "cell_type": "code",
   "execution_count": 21,
   "metadata": {},
   "outputs": [],
   "source": [
    "quakers_relacional['degree']= quakers_relacional['name'].map(gr)\n",
    "quakers_relacional['centrality']= quakers_relacional['name'].map(cn)\n",
    "quakers_relacional['clustering']= quakers_relacional['name'].map(cl)\n",
    "quakers_relacional['bcentrality']= quakers_relacional['name'].map(bc)"
   ]
  },
  {
   "cell_type": "code",
   "execution_count": 22,
   "metadata": {
    "scrolled": true
   },
   "outputs": [
    {
     "data": {
      "text/html": [
       "<div>\n",
       "<style scoped>\n",
       "    .dataframe tbody tr th:only-of-type {\n",
       "        vertical-align: middle;\n",
       "    }\n",
       "\n",
       "    .dataframe tbody tr th {\n",
       "        vertical-align: top;\n",
       "    }\n",
       "\n",
       "    .dataframe thead th {\n",
       "        text-align: right;\n",
       "    }\n",
       "</style>\n",
       "<table border=\"1\" class=\"dataframe\">\n",
       "  <thead>\n",
       "    <tr style=\"text-align: right;\">\n",
       "      <th></th>\n",
       "      <th>name</th>\n",
       "      <th>historical_significance</th>\n",
       "      <th>gender</th>\n",
       "      <th>birthdate</th>\n",
       "      <th>deathdate</th>\n",
       "      <th>id</th>\n",
       "      <th>degree</th>\n",
       "      <th>centrality</th>\n",
       "      <th>clustering</th>\n",
       "      <th>bcentrality</th>\n",
       "    </tr>\n",
       "  </thead>\n",
       "  <tbody>\n",
       "    <tr>\n",
       "      <th>0</th>\n",
       "      <td>Joseph Wyeth</td>\n",
       "      <td>religious writer</td>\n",
       "      <td>male</td>\n",
       "      <td>1663</td>\n",
       "      <td>1731</td>\n",
       "      <td>10013191</td>\n",
       "      <td>1</td>\n",
       "      <td>0.008475</td>\n",
       "      <td>0.000000</td>\n",
       "      <td>0.000000</td>\n",
       "    </tr>\n",
       "    <tr>\n",
       "      <th>1</th>\n",
       "      <td>Alexander Skene of Newtyle</td>\n",
       "      <td>local politician and author</td>\n",
       "      <td>male</td>\n",
       "      <td>1621</td>\n",
       "      <td>1694</td>\n",
       "      <td>10011149</td>\n",
       "      <td>1</td>\n",
       "      <td>0.008475</td>\n",
       "      <td>0.000000</td>\n",
       "      <td>0.000000</td>\n",
       "    </tr>\n",
       "    <tr>\n",
       "      <th>2</th>\n",
       "      <td>James Logan</td>\n",
       "      <td>colonial official and scholar</td>\n",
       "      <td>male</td>\n",
       "      <td>1674</td>\n",
       "      <td>1751</td>\n",
       "      <td>10007567</td>\n",
       "      <td>4</td>\n",
       "      <td>0.033898</td>\n",
       "      <td>0.333333</td>\n",
       "      <td>0.026945</td>\n",
       "    </tr>\n",
       "    <tr>\n",
       "      <th>3</th>\n",
       "      <td>Dorcas Erbery</td>\n",
       "      <td>Quaker preacher</td>\n",
       "      <td>female</td>\n",
       "      <td>1656</td>\n",
       "      <td>1659</td>\n",
       "      <td>10003983</td>\n",
       "      <td>1</td>\n",
       "      <td>0.008475</td>\n",
       "      <td>0.000000</td>\n",
       "      <td>0.000000</td>\n",
       "    </tr>\n",
       "    <tr>\n",
       "      <th>4</th>\n",
       "      <td>Lilias Skene</td>\n",
       "      <td>Quaker preacher and poet</td>\n",
       "      <td>male</td>\n",
       "      <td>1626</td>\n",
       "      <td>1697</td>\n",
       "      <td>10011152</td>\n",
       "      <td>1</td>\n",
       "      <td>0.008475</td>\n",
       "      <td>0.000000</td>\n",
       "      <td>0.000000</td>\n",
       "    </tr>\n",
       "    <tr>\n",
       "      <th>...</th>\n",
       "      <td>...</td>\n",
       "      <td>...</td>\n",
       "      <td>...</td>\n",
       "      <td>...</td>\n",
       "      <td>...</td>\n",
       "      <td>...</td>\n",
       "      <td>...</td>\n",
       "      <td>...</td>\n",
       "      <td>...</td>\n",
       "      <td>...</td>\n",
       "    </tr>\n",
       "    <tr>\n",
       "      <th>114</th>\n",
       "      <td>Thomas Ellwood</td>\n",
       "      <td>religious controversialist</td>\n",
       "      <td>male</td>\n",
       "      <td>1639</td>\n",
       "      <td>1713</td>\n",
       "      <td>10003945</td>\n",
       "      <td>8</td>\n",
       "      <td>0.067797</td>\n",
       "      <td>0.178571</td>\n",
       "      <td>0.046191</td>\n",
       "    </tr>\n",
       "    <tr>\n",
       "      <th>115</th>\n",
       "      <td>William Simpson</td>\n",
       "      <td>Quaker preacher</td>\n",
       "      <td>male</td>\n",
       "      <td>1627</td>\n",
       "      <td>1671</td>\n",
       "      <td>10011114</td>\n",
       "      <td>1</td>\n",
       "      <td>0.008475</td>\n",
       "      <td>0.000000</td>\n",
       "      <td>0.000000</td>\n",
       "    </tr>\n",
       "    <tr>\n",
       "      <th>116</th>\n",
       "      <td>Samuel Bownas</td>\n",
       "      <td>Quaker minister and writer</td>\n",
       "      <td>male</td>\n",
       "      <td>1677</td>\n",
       "      <td>1753</td>\n",
       "      <td>10001390</td>\n",
       "      <td>1</td>\n",
       "      <td>0.008475</td>\n",
       "      <td>0.000000</td>\n",
       "      <td>0.000000</td>\n",
       "    </tr>\n",
       "    <tr>\n",
       "      <th>117</th>\n",
       "      <td>John Perrot</td>\n",
       "      <td>Quaker schismatic</td>\n",
       "      <td>male</td>\n",
       "      <td>1555</td>\n",
       "      <td>1665</td>\n",
       "      <td>10009584</td>\n",
       "      <td>7</td>\n",
       "      <td>0.059322</td>\n",
       "      <td>0.333333</td>\n",
       "      <td>0.028296</td>\n",
       "    </tr>\n",
       "    <tr>\n",
       "      <th>118</th>\n",
       "      <td>Hannah Stranger</td>\n",
       "      <td>Quaker missionary</td>\n",
       "      <td>female</td>\n",
       "      <td>1656</td>\n",
       "      <td>1671</td>\n",
       "      <td>10011632</td>\n",
       "      <td>2</td>\n",
       "      <td>0.016949</td>\n",
       "      <td>1.000000</td>\n",
       "      <td>0.000000</td>\n",
       "    </tr>\n",
       "  </tbody>\n",
       "</table>\n",
       "<p>119 rows × 10 columns</p>\n",
       "</div>"
      ],
      "text/plain": [
       "                           name        historical_significance  gender  \\\n",
       "0                  Joseph Wyeth               religious writer    male   \n",
       "1    Alexander Skene of Newtyle    local politician and author    male   \n",
       "2                   James Logan  colonial official and scholar    male   \n",
       "3                 Dorcas Erbery                Quaker preacher  female   \n",
       "4                  Lilias Skene       Quaker preacher and poet    male   \n",
       "..                          ...                            ...     ...   \n",
       "114              Thomas Ellwood     religious controversialist    male   \n",
       "115             William Simpson                Quaker preacher    male   \n",
       "116               Samuel Bownas     Quaker minister and writer    male   \n",
       "117                 John Perrot              Quaker schismatic    male   \n",
       "118             Hannah Stranger              Quaker missionary  female   \n",
       "\n",
       "     birthdate  deathdate        id  degree  centrality  clustering  \\\n",
       "0         1663       1731  10013191       1    0.008475    0.000000   \n",
       "1         1621       1694  10011149       1    0.008475    0.000000   \n",
       "2         1674       1751  10007567       4    0.033898    0.333333   \n",
       "3         1656       1659  10003983       1    0.008475    0.000000   \n",
       "4         1626       1697  10011152       1    0.008475    0.000000   \n",
       "..         ...        ...       ...     ...         ...         ...   \n",
       "114       1639       1713  10003945       8    0.067797    0.178571   \n",
       "115       1627       1671  10011114       1    0.008475    0.000000   \n",
       "116       1677       1753  10001390       1    0.008475    0.000000   \n",
       "117       1555       1665  10009584       7    0.059322    0.333333   \n",
       "118       1656       1671  10011632       2    0.016949    1.000000   \n",
       "\n",
       "     bcentrality  \n",
       "0       0.000000  \n",
       "1       0.000000  \n",
       "2       0.026945  \n",
       "3       0.000000  \n",
       "4       0.000000  \n",
       "..           ...  \n",
       "114     0.046191  \n",
       "115     0.000000  \n",
       "116     0.000000  \n",
       "117     0.028296  \n",
       "118     0.000000  \n",
       "\n",
       "[119 rows x 10 columns]"
      ]
     },
     "execution_count": 22,
     "metadata": {},
     "output_type": "execute_result"
    }
   ],
   "source": [
    "#Creamos otro modelo añadiendole los atributos relaccionalers grado, centralidad y clustering\n",
    "#Con los métodos .map le pasamos los diccionarios obtenidos para añdirlo al modelo relacional\n",
    "quakers_relacional"
   ]
  },
  {
   "cell_type": "code",
   "execution_count": 23,
   "metadata": {},
   "outputs": [],
   "source": [
    "from sklearn import preprocessing\n",
    "\n",
    "atributos_relacional = quakers_relacional.loc[:, 'birthdate':'bcentrality']  # selección de las columnas de atributos\n",
    "objetivo_relacional = quakers_relacional['gender']  # selección de la columna objetivo"
   ]
  },
  {
   "cell_type": "code",
   "execution_count": 24,
   "metadata": {},
   "outputs": [
    {
     "name": "stdout",
     "output_type": "stream",
     "text": [
      "{1: 0.8151515151515152, 2: 0.8151515151515152, 3: 0.8151515151515152, 4: 0.8151515151515152, 5: 0.8151515151515152, 6: 0.8151515151515152, 7: 0.8151515151515152, 8: 0.8151515151515152, 9: 0.8151515151515152, 10: 0.8151515151515152}\n",
      "1\n"
     ]
    }
   ],
   "source": [
    "#Hacemos lo mismo que hemos hecho anteriormente pero con el modelo relacional\n",
    "from sklearn import model_selection\n",
    "from sklearn import neighbors\n",
    "cv_scores_kNN_relacional = {}\n",
    "for k in range(1,11):\n",
    "    clasif_kNN_relacional = neighbors.KNeighborsClassifier(n_neighbors=k, metric='hamming')\n",
    "    cv_scores_relacional= model_selection.cross_val_score(clasif_kNN,\n",
    "                                                atributos_relacional,\n",
    "                                                objetivo_relacional,\n",
    "                                               cv=10)\n",
    "    cv_scores_kNN_relacional[k] = cv_scores_relacional.mean()\n",
    "print(cv_scores_kNN_relacional)\n",
    "print(max(cv_scores_kNN_relacional, key=cv_scores_kNN_relacional.get))"
   ]
  },
  {
   "cell_type": "code",
   "execution_count": 25,
   "metadata": {},
   "outputs": [
    {
     "data": {
      "text/plain": [
       "1.0"
      ]
     },
     "execution_count": 25,
     "metadata": {},
     "output_type": "execute_result"
    }
   ],
   "source": [
    "clasif_kNN_relacional = neighbors.KNeighborsClassifier(n_neighbors=1, metric='hamming')\n",
    "clasif_kNN_relacional.fit(atributos_relacional,objetivo_relacional)\n",
    "clasif_kNN_relacional.score(atributos_relacional, objetivo_relacional)"
   ]
  },
  {
   "cell_type": "code",
   "execution_count": 26,
   "metadata": {},
   "outputs": [],
   "source": [
    "#Una vez obtenida la exactitud en ambos modelos hemos visto que ha aumentado, por tanto podemos concluir que el modelo \n",
    "#añadiendo las propiedades relacionales mejora el rendimiento."
   ]
  },
  {
   "cell_type": "markdown",
   "metadata": {},
   "source": [
    "ÁRBOLES DE DECISIÓN"
   ]
  },
  {
   "cell_type": "code",
   "execution_count": 27,
   "metadata": {},
   "outputs": [],
   "source": [
    "from sklearn import tree\n",
    "#Creamos el clasificador necesario para el árbol de desición y le aplicamos fit para codificar o decodificar los atributos y el\n",
    "#objetivo.\n",
    "clf = tree.DecisionTreeClassifier()\n",
    "clf = clf.fit(atributos, objetivo)"
   ]
  },
  {
   "cell_type": "code",
   "execution_count": 28,
   "metadata": {},
   "outputs": [
    {
     "data": {
      "text/plain": [
       "[Text(244.125, 208.38, 'X[1] <= 1706.0\\ngini = 0.301\\nsamples = 119\\nvalue = [22, 97]'),\n",
       " Text(187.78846153846152, 190.26, 'X[0] <= 1655.5\\ngini = 0.382\\nsamples = 74\\nvalue = [19, 55]'),\n",
       " Text(179.20384615384614, 172.14, 'X[1] <= 1700.5\\ngini = 0.361\\nsamples = 72\\nvalue = [17, 55]'),\n",
       " Text(126.62307692307692, 154.01999999999998, 'X[0] <= 1624.5\\ngini = 0.32\\nsamples = 65\\nvalue = [13, 52]'),\n",
       " Text(72.96923076923076, 135.89999999999998, 'X[0] <= 1622.0\\ngini = 0.394\\nsamples = 37\\nvalue = [10, 27]'),\n",
       " Text(55.8, 117.77999999999999, 'X[1] <= 1663.0\\ngini = 0.334\\nsamples = 33\\nvalue = [7, 26]'),\n",
       " Text(47.215384615384615, 99.66, 'gini = 0.0\\nsamples = 5\\nvalue = [0, 5]'),\n",
       " Text(64.38461538461539, 99.66, 'X[1] <= 1664.5\\ngini = 0.375\\nsamples = 28\\nvalue = [7, 21]'),\n",
       " Text(55.8, 81.53999999999999, 'gini = 0.0\\nsamples = 1\\nvalue = [1, 0]'),\n",
       " Text(72.96923076923076, 81.53999999999999, 'X[0] <= 1570.0\\ngini = 0.346\\nsamples = 27\\nvalue = [6, 21]'),\n",
       " Text(34.33846153846154, 63.41999999999999, 'X[1] <= 1671.0\\ngini = 0.49\\nsamples = 7\\nvalue = [3, 4]'),\n",
       " Text(17.16923076923077, 45.29999999999998, 'X[1] <= 1666.5\\ngini = 0.375\\nsamples = 4\\nvalue = [1, 3]'),\n",
       " Text(8.584615384615384, 27.17999999999998, 'gini = 0.5\\nsamples = 2\\nvalue = [1, 1]'),\n",
       " Text(25.753846153846155, 27.17999999999998, 'gini = 0.0\\nsamples = 2\\nvalue = [0, 2]'),\n",
       " Text(51.50769230769231, 45.29999999999998, 'X[0] <= 1565.5\\ngini = 0.444\\nsamples = 3\\nvalue = [2, 1]'),\n",
       " Text(42.92307692307692, 27.17999999999998, 'gini = 0.0\\nsamples = 1\\nvalue = [1, 0]'),\n",
       " Text(60.09230769230769, 27.17999999999998, 'gini = 0.5\\nsamples = 2\\nvalue = [1, 1]'),\n",
       " Text(111.6, 63.41999999999999, 'X[0] <= 1617.5\\ngini = 0.255\\nsamples = 20\\nvalue = [3, 17]'),\n",
       " Text(85.84615384615384, 45.29999999999998, 'X[1] <= 1687.0\\ngini = 0.142\\nsamples = 13\\nvalue = [1, 12]'),\n",
       " Text(77.26153846153846, 27.17999999999998, 'gini = 0.0\\nsamples = 8\\nvalue = [0, 8]'),\n",
       " Text(94.43076923076923, 27.17999999999998, 'X[1] <= 1691.5\\ngini = 0.32\\nsamples = 5\\nvalue = [1, 4]'),\n",
       " Text(85.84615384615384, 9.059999999999974, 'gini = 0.0\\nsamples = 1\\nvalue = [1, 0]'),\n",
       " Text(103.01538461538462, 9.059999999999974, 'gini = 0.0\\nsamples = 4\\nvalue = [0, 4]'),\n",
       " Text(137.35384615384615, 45.29999999999998, 'X[0] <= 1619.5\\ngini = 0.408\\nsamples = 7\\nvalue = [2, 5]'),\n",
       " Text(128.76923076923077, 27.17999999999998, 'X[1] <= 1677.0\\ngini = 0.5\\nsamples = 4\\nvalue = [2, 2]'),\n",
       " Text(120.18461538461538, 9.059999999999974, 'gini = 0.0\\nsamples = 2\\nvalue = [0, 2]'),\n",
       " Text(137.35384615384615, 9.059999999999974, 'gini = 0.0\\nsamples = 2\\nvalue = [2, 0]'),\n",
       " Text(145.93846153846152, 27.17999999999998, 'gini = 0.0\\nsamples = 3\\nvalue = [0, 3]'),\n",
       " Text(90.13846153846154, 117.77999999999999, 'X[1] <= 1686.5\\ngini = 0.375\\nsamples = 4\\nvalue = [3, 1]'),\n",
       " Text(81.55384615384615, 99.66, 'gini = 0.0\\nsamples = 2\\nvalue = [2, 0]'),\n",
       " Text(98.72307692307692, 99.66, 'X[1] <= 1694.5\\ngini = 0.5\\nsamples = 2\\nvalue = [1, 1]'),\n",
       " Text(90.13846153846154, 81.53999999999999, 'gini = 0.0\\nsamples = 1\\nvalue = [0, 1]'),\n",
       " Text(107.3076923076923, 81.53999999999999, 'gini = 0.0\\nsamples = 1\\nvalue = [1, 0]'),\n",
       " Text(180.27692307692308, 135.89999999999998, 'X[1] <= 1680.0\\ngini = 0.191\\nsamples = 28\\nvalue = [3, 25]'),\n",
       " Text(171.69230769230768, 117.77999999999999, 'X[1] <= 1675.0\\ngini = 0.355\\nsamples = 13\\nvalue = [3, 10]'),\n",
       " Text(163.1076923076923, 99.66, 'X[0] <= 1633.5\\ngini = 0.278\\nsamples = 12\\nvalue = [2, 10]'),\n",
       " Text(154.52307692307693, 81.53999999999999, 'gini = 0.0\\nsamples = 7\\nvalue = [0, 7]'),\n",
       " Text(171.69230769230768, 81.53999999999999, 'X[1] <= 1665.5\\ngini = 0.48\\nsamples = 5\\nvalue = [2, 3]'),\n",
       " Text(163.1076923076923, 63.41999999999999, 'X[0] <= 1635.0\\ngini = 0.375\\nsamples = 4\\nvalue = [1, 3]'),\n",
       " Text(154.52307692307693, 45.29999999999998, 'gini = 0.0\\nsamples = 1\\nvalue = [1, 0]'),\n",
       " Text(171.69230769230768, 45.29999999999998, 'gini = 0.0\\nsamples = 3\\nvalue = [0, 3]'),\n",
       " Text(180.27692307692308, 63.41999999999999, 'gini = 0.0\\nsamples = 1\\nvalue = [1, 0]'),\n",
       " Text(180.27692307692308, 99.66, 'gini = 0.0\\nsamples = 1\\nvalue = [1, 0]'),\n",
       " Text(188.86153846153846, 117.77999999999999, 'gini = 0.0\\nsamples = 15\\nvalue = [0, 15]'),\n",
       " Text(231.78461538461536, 154.01999999999998, 'X[0] <= 1626.5\\ngini = 0.49\\nsamples = 7\\nvalue = [4, 3]'),\n",
       " Text(214.6153846153846, 135.89999999999998, 'X[0] <= 1619.0\\ngini = 0.444\\nsamples = 3\\nvalue = [1, 2]'),\n",
       " Text(206.03076923076924, 117.77999999999999, 'gini = 0.0\\nsamples = 1\\nvalue = [1, 0]'),\n",
       " Text(223.2, 117.77999999999999, 'gini = 0.0\\nsamples = 2\\nvalue = [0, 2]'),\n",
       " Text(248.95384615384614, 135.89999999999998, 'X[0] <= 1630.5\\ngini = 0.375\\nsamples = 4\\nvalue = [3, 1]'),\n",
       " Text(240.36923076923077, 117.77999999999999, 'gini = 0.0\\nsamples = 2\\nvalue = [2, 0]'),\n",
       " Text(257.53846153846155, 117.77999999999999, 'X[0] <= 1634.0\\ngini = 0.5\\nsamples = 2\\nvalue = [1, 1]'),\n",
       " Text(248.95384615384614, 99.66, 'gini = 0.0\\nsamples = 1\\nvalue = [0, 1]'),\n",
       " Text(266.1230769230769, 99.66, 'gini = 0.0\\nsamples = 1\\nvalue = [1, 0]'),\n",
       " Text(196.37307692307692, 172.14, 'gini = 0.0\\nsamples = 2\\nvalue = [2, 0]'),\n",
       " Text(300.46153846153845, 190.26, 'X[1] <= 1759.0\\ngini = 0.124\\nsamples = 45\\nvalue = [3, 42]'),\n",
       " Text(283.2923076923077, 172.14, 'X[0] <= 1632.0\\ngini = 0.051\\nsamples = 38\\nvalue = [1, 37]'),\n",
       " Text(274.7076923076923, 154.01999999999998, 'X[0] <= 1630.5\\ngini = 0.245\\nsamples = 7\\nvalue = [1, 6]'),\n",
       " Text(266.1230769230769, 135.89999999999998, 'gini = 0.0\\nsamples = 6\\nvalue = [0, 6]'),\n",
       " Text(283.2923076923077, 135.89999999999998, 'gini = 0.0\\nsamples = 1\\nvalue = [1, 0]'),\n",
       " Text(291.87692307692305, 154.01999999999998, 'gini = 0.0\\nsamples = 31\\nvalue = [0, 31]'),\n",
       " Text(317.6307692307692, 172.14, 'X[1] <= 1763.5\\ngini = 0.408\\nsamples = 7\\nvalue = [2, 5]'),\n",
       " Text(309.04615384615386, 154.01999999999998, 'gini = 0.0\\nsamples = 2\\nvalue = [2, 0]'),\n",
       " Text(326.2153846153846, 154.01999999999998, 'gini = 0.0\\nsamples = 5\\nvalue = [0, 5]')]"
      ]
     },
     "execution_count": 28,
     "metadata": {},
     "output_type": "execute_result"
    },
    {
     "data": {
      "image/png": "[encoded data removed]",
      "text/plain": [
       "<Figure size 432x288 with 1 Axes>"
      ]
     },
     "metadata": {
      "needs_background": "light"
     },
     "output_type": "display_data"
    }
   ],
   "source": [
    "#Mostramos como sería el árbol resultante\n",
    "tree.plot_tree(clf) "
   ]
  },
  {
   "cell_type": "code",
   "execution_count": 29,
   "metadata": {},
   "outputs": [],
   "source": [
    "#El método predict nos permite predecir las etiquetas de los valores de los datos sobre la base del modelo entrenado.\n",
    "pred = clf.predict(atributos)"
   ]
  },
  {
   "cell_type": "code",
   "execution_count": 30,
   "metadata": {},
   "outputs": [
    {
     "name": "stdout",
     "output_type": "stream",
     "text": [
      "Accuracy: 0.9831932773109243\n"
     ]
    }
   ],
   "source": [
    "from sklearn import metrics\n",
    "#Finalmente obtenemos la exactitud\n",
    "print(\"Accuracy:\", metrics.accuracy_score(objetivo,pred))"
   ]
  },
  {
   "cell_type": "markdown",
   "metadata": {},
   "source": [
    "RELACIONAL"
   ]
  },
  {
   "cell_type": "code",
   "execution_count": 31,
   "metadata": {},
   "outputs": [],
   "source": [
    "clf2 = tree.DecisionTreeClassifier()\n",
    "clf2 = clf2.fit(atributos_relacional, objetivo_relacional)"
   ]
  },
  {
   "cell_type": "code",
   "execution_count": 32,
   "metadata": {},
   "outputs": [
    {
     "data": {
      "text/plain": [
       "[Text(235.94741379310344, 209.6742857142857, 'X[1] <= 1706.0\\ngini = 0.301\\nsamples = 119\\nvalue = [22, 97]'),\n",
       " Text(183.2741379310345, 194.14285714285714, 'X[0] <= 1655.5\\ngini = 0.382\\nsamples = 74\\nvalue = [19, 55]'),\n",
       " Text(171.72931034482758, 178.61142857142858, 'X[1] <= 1700.5\\ngini = 0.361\\nsamples = 72\\nvalue = [17, 55]'),\n",
       " Text(135.65172413793104, 163.07999999999998, 'X[4] <= 0.038\\ngini = 0.32\\nsamples = 65\\nvalue = [13, 52]'),\n",
       " Text(124.10689655172413, 147.54857142857142, 'X[6] <= 0.016\\ngini = 0.375\\nsamples = 52\\nvalue = [13, 39]'),\n",
       " Text(86.58620689655172, 132.01714285714286, 'X[1] <= 1680.0\\ngini = 0.335\\nsamples = 47\\nvalue = [10, 37]'),\n",
       " Text(46.179310344827584, 116.48571428571428, 'X[2] <= 10002161.0\\ngini = 0.444\\nsamples = 24\\nvalue = [8, 16]'),\n",
       " Text(34.63448275862069, 100.9542857142857, 'gini = 0.0\\nsamples = 5\\nvalue = [0, 5]'),\n",
       " Text(57.72413793103448, 100.9542857142857, 'X[2] <= 10003727.0\\ngini = 0.488\\nsamples = 19\\nvalue = [8, 11]'),\n",
       " Text(34.63448275862069, 85.42285714285714, 'X[0] <= 1604.5\\ngini = 0.375\\nsamples = 4\\nvalue = [3, 1]'),\n",
       " Text(23.089655172413792, 69.89142857142858, 'gini = 0.0\\nsamples = 1\\nvalue = [0, 1]'),\n",
       " Text(46.179310344827584, 69.89142857142858, 'gini = 0.0\\nsamples = 3\\nvalue = [3, 0]'),\n",
       " Text(80.81379310344828, 85.42285714285714, 'X[2] <= 10012178.0\\ngini = 0.444\\nsamples = 15\\nvalue = [5, 10]'),\n",
       " Text(69.26896551724138, 69.89142857142858, 'X[3] <= 2.5\\ngini = 0.408\\nsamples = 14\\nvalue = [4, 10]'),\n",
       " Text(57.72413793103448, 54.359999999999985, 'X[1] <= 1671.5\\ngini = 0.355\\nsamples = 13\\nvalue = [3, 10]'),\n",
       " Text(34.63448275862069, 38.82857142857142, 'X[1] <= 1659.5\\ngini = 0.198\\nsamples = 9\\nvalue = [1, 8]'),\n",
       " Text(23.089655172413792, 23.29714285714286, 'X[5] <= 0.5\\ngini = 0.5\\nsamples = 2\\nvalue = [1, 1]'),\n",
       " Text(11.544827586206896, 7.765714285714267, 'gini = 0.0\\nsamples = 1\\nvalue = [1, 0]'),\n",
       " Text(34.63448275862069, 7.765714285714267, 'gini = 0.0\\nsamples = 1\\nvalue = [0, 1]'),\n",
       " Text(46.179310344827584, 23.29714285714286, 'gini = 0.0\\nsamples = 7\\nvalue = [0, 7]'),\n",
       " Text(80.81379310344828, 38.82857142857142, 'X[2] <= 10010109.5\\ngini = 0.5\\nsamples = 4\\nvalue = [2, 2]'),\n",
       " Text(69.26896551724138, 23.29714285714286, 'gini = 0.0\\nsamples = 2\\nvalue = [2, 0]'),\n",
       " Text(92.35862068965517, 23.29714285714286, 'gini = 0.0\\nsamples = 2\\nvalue = [0, 2]'),\n",
       " Text(80.81379310344828, 54.359999999999985, 'gini = 0.0\\nsamples = 1\\nvalue = [1, 0]'),\n",
       " Text(92.35862068965517, 69.89142857142858, 'gini = 0.0\\nsamples = 1\\nvalue = [1, 0]'),\n",
       " Text(126.99310344827586, 116.48571428571428, 'X[2] <= 10004558.5\\ngini = 0.159\\nsamples = 23\\nvalue = [2, 21]'),\n",
       " Text(115.44827586206895, 100.9542857142857, 'X[2] <= 10003947.5\\ngini = 0.346\\nsamples = 9\\nvalue = [2, 7]'),\n",
       " Text(103.90344827586206, 85.42285714285714, 'gini = 0.0\\nsamples = 7\\nvalue = [0, 7]'),\n",
       " Text(126.99310344827586, 85.42285714285714, 'gini = 0.0\\nsamples = 2\\nvalue = [2, 0]'),\n",
       " Text(138.53793103448277, 100.9542857142857, 'gini = 0.0\\nsamples = 14\\nvalue = [0, 14]'),\n",
       " Text(161.62758620689655, 132.01714285714286, 'X[0] <= 1627.0\\ngini = 0.48\\nsamples = 5\\nvalue = [3, 2]'),\n",
       " Text(150.08275862068965, 116.48571428571428, 'gini = 0.0\\nsamples = 3\\nvalue = [3, 0]'),\n",
       " Text(173.17241379310343, 116.48571428571428, 'gini = 0.0\\nsamples = 2\\nvalue = [0, 2]'),\n",
       " Text(147.19655172413792, 147.54857142857142, 'gini = 0.0\\nsamples = 13\\nvalue = [0, 13]'),\n",
       " Text(207.80689655172412, 163.07999999999998, 'X[2] <= 10008350.5\\ngini = 0.49\\nsamples = 7\\nvalue = [4, 3]'),\n",
       " Text(196.26206896551724, 147.54857142857142, 'X[6] <= 0.001\\ngini = 0.48\\nsamples = 5\\nvalue = [2, 3]'),\n",
       " Text(184.71724137931034, 132.01714285714286, 'gini = 0.0\\nsamples = 2\\nvalue = [0, 2]'),\n",
       " Text(207.80689655172412, 132.01714285714286, 'X[0] <= 1629.0\\ngini = 0.444\\nsamples = 3\\nvalue = [2, 1]'),\n",
       " Text(196.26206896551724, 116.48571428571428, 'gini = 0.0\\nsamples = 2\\nvalue = [2, 0]'),\n",
       " Text(219.35172413793103, 116.48571428571428, 'gini = 0.0\\nsamples = 1\\nvalue = [0, 1]'),\n",
       " Text(219.35172413793103, 147.54857142857142, 'gini = 0.0\\nsamples = 2\\nvalue = [2, 0]'),\n",
       " Text(194.81896551724137, 178.61142857142858, 'gini = 0.0\\nsamples = 2\\nvalue = [2, 0]'),\n",
       " Text(288.6206896551724, 194.14285714285714, 'X[1] <= 1759.0\\ngini = 0.124\\nsamples = 45\\nvalue = [3, 42]'),\n",
       " Text(265.5310344827586, 178.61142857142858, 'X[0] <= 1632.0\\ngini = 0.051\\nsamples = 38\\nvalue = [1, 37]'),\n",
       " Text(253.98620689655172, 163.07999999999998, 'X[0] <= 1630.5\\ngini = 0.245\\nsamples = 7\\nvalue = [1, 6]'),\n",
       " Text(242.44137931034481, 147.54857142857142, 'gini = 0.0\\nsamples = 6\\nvalue = [0, 6]'),\n",
       " Text(265.5310344827586, 147.54857142857142, 'gini = 0.0\\nsamples = 1\\nvalue = [1, 0]'),\n",
       " Text(277.07586206896553, 163.07999999999998, 'gini = 0.0\\nsamples = 31\\nvalue = [0, 31]'),\n",
       " Text(311.7103448275862, 178.61142857142858, 'X[1] <= 1763.5\\ngini = 0.408\\nsamples = 7\\nvalue = [2, 5]'),\n",
       " Text(300.1655172413793, 163.07999999999998, 'gini = 0.0\\nsamples = 2\\nvalue = [2, 0]'),\n",
       " Text(323.2551724137931, 163.07999999999998, 'gini = 0.0\\nsamples = 5\\nvalue = [0, 5]')]"
      ]
     },
     "execution_count": 32,
     "metadata": {},
     "output_type": "execute_result"
    },
    {
     "data": {
      "image/png": "[encoded data removed]",
      "text/plain": [
       "<Figure size 432x288 with 1 Axes>"
      ]
     },
     "metadata": {
      "needs_background": "light"
     },
     "output_type": "display_data"
    }
   ],
   "source": [
    "tree.plot_tree(clf2) "
   ]
  },
  {
   "cell_type": "code",
   "execution_count": 33,
   "metadata": {},
   "outputs": [],
   "source": [
    "pred2 = clf2.predict(atributos_relacional)"
   ]
  },
  {
   "cell_type": "code",
   "execution_count": 34,
   "metadata": {},
   "outputs": [
    {
     "name": "stdout",
     "output_type": "stream",
     "text": [
      "Accuracy: 1.0\n"
     ]
    }
   ],
   "source": [
    "print(\"Accuracy:\", metrics.accuracy_score(objetivo_relacional,pred2))"
   ]
  },
  {
   "cell_type": "code",
   "execution_count": 35,
   "metadata": {},
   "outputs": [],
   "source": [
    "#Hacemos exactamente lo mismo que para los datos relacionales y obtenemos el acuraci que vemos que mejora.\n",
    "#Por tanto el modelo relacional nos aporta un mayor rendimiento."
   ]
  },
  {
   "cell_type": "markdown",
   "metadata": {},
   "source": [
    "REDES NEURONALES"
   ]
  },
  {
   "cell_type": "code",
   "execution_count": 36,
   "metadata": {},
   "outputs": [],
   "source": [
    "from tensorflow import keras"
   ]
  },
  {
   "cell_type": "code",
   "execution_count": 37,
   "metadata": {},
   "outputs": [
    {
     "name": "stdout",
     "output_type": "stream",
     "text": [
      "[[1663 1731]\n",
      " [1621 1694]\n",
      " [1674 1751]\n",
      " [1656 1659]\n",
      " [1626 1697]\n",
      " [1630 1713]\n",
      " [1630 1691]\n",
      " [1621 1688]\n",
      " [1630 1664]\n",
      " [1649 1723]\n",
      " [1663 1752]\n",
      " [1687 1750]\n",
      " [1654 1725]\n",
      " [1637 1704]\n",
      " [1551 1661]\n",
      " [1624 1691]\n",
      " [1618 1675]\n",
      " [1627 1705]\n",
      " [1605 1657]\n",
      " [1640 1708]\n",
      " [1618 1692]\n",
      " [1683 1761]\n",
      " [1631 1704]\n",
      " [1633 1720]\n",
      " [1569 1679]\n",
      " [1628 1692]\n",
      " [1634 1687]\n",
      " [1626 1666]\n",
      " [1665 1745]\n",
      " [1620 1679]\n",
      " [1627 1713]\n",
      " [1673 1738]\n",
      " [1616 1699]\n",
      " [1626 1705]\n",
      " [1635 1681]\n",
      " [1683 1757]\n",
      " [1618 1660]\n",
      " [1562 1672]\n",
      " [1637 1724]\n",
      " [1630 1696]\n",
      " [1628 1711]\n",
      " [1636 1714]\n",
      " [1691 1765]\n",
      " [1607 1679]\n",
      " [1656 1722]\n",
      " [1614 1686]\n",
      " [1630 1691]\n",
      " [1630 1666]\n",
      " [1601 1678]\n",
      " [1617 1682]\n",
      " [1590 1700]\n",
      " [1648 1690]\n",
      " [1631 1711]\n",
      " [1666 1749]\n",
      " [1624 1701]\n",
      " [1614 1702]\n",
      " [1558 1668]\n",
      " [1555 1665]\n",
      " [1602 1712]\n",
      " [1619 1679]\n",
      " [1628 1689]\n",
      " [1652 1683]\n",
      " [1616 1660]\n",
      " [1610 1686]\n",
      " [1682 1769]\n",
      " [1666 1743]\n",
      " [1638 1716]\n",
      " [1636 1656]\n",
      " [1694 1768]\n",
      " [1614 1698]\n",
      " [1636 1665]\n",
      " [1618 1669]\n",
      " [1628 1662]\n",
      " [1552 1662]\n",
      " [1601 1711]\n",
      " [1671 1735]\n",
      " [1643 1707]\n",
      " [1623 1698]\n",
      " [1631 1679]\n",
      " [1604 1665]\n",
      " [1640 1727]\n",
      " [1634 1659]\n",
      " [1650 1696]\n",
      " [1655 1660]\n",
      " [1628 1684]\n",
      " [1693 1767]\n",
      " [1672 1740]\n",
      " [1676 1762]\n",
      " [1569 1679]\n",
      " [1699 1777]\n",
      " [1658 1709]\n",
      " [1625 1697]\n",
      " [1585 1695]\n",
      " [1627 1666]\n",
      " [1617 1682]\n",
      " [1631 1690]\n",
      " [1633 1663]\n",
      " [1609 1688]\n",
      " [1627 1712]\n",
      " [1608 1664]\n",
      " [1560 1670]\n",
      " [1648 1724]\n",
      " [1655 1710]\n",
      " [1623 1682]\n",
      " [1637 1698]\n",
      " [1633 1707]\n",
      " [1644 1718]\n",
      " [1630 1701]\n",
      " [1636 1666]\n",
      " [1656 1731]\n",
      " [1671 1746]\n",
      " [1624 1665]\n",
      " [1571 1681]\n",
      " [1670 1742]\n",
      " [1639 1713]\n",
      " [1627 1671]\n",
      " [1677 1753]\n",
      " [1555 1665]\n",
      " [1656 1671]]\n"
     ]
    }
   ],
   "source": [
    "atributos = atributos.to_numpy()\n",
    "print(atributos)"
   ]
  },
  {
   "cell_type": "code",
   "execution_count": 38,
   "metadata": {},
   "outputs": [
    {
     "name": "stdout",
     "output_type": "stream",
     "text": [
      "[1. 1. 1. 0. 1. 1. 1. 1. 1. 1. 1. 1. 1. 0. 1. 1. 1. 0. 1. 1. 0. 0. 1. 1.\n",
      " 1. 1. 1. 1. 1. 1. 1. 1. 1. 1. 1. 1. 1. 0. 1. 1. 1. 1. 1. 1. 1. 1. 1. 1.\n",
      " 1. 1. 1. 1. 0. 1. 1. 0. 1. 0. 1. 0. 1. 1. 1. 1. 1. 1. 1. 1. 1. 1. 1. 1.\n",
      " 1. 1. 1. 1. 1. 0. 0. 1. 1. 0. 1. 1. 1. 1. 1. 0. 0. 1. 1. 1. 1. 1. 1. 1.\n",
      " 1. 0. 1. 0. 1. 1. 1. 0. 1. 1. 1. 0. 0. 1. 1. 0. 1. 1. 1. 1. 1. 1. 0.]\n"
     ]
    }
   ],
   "source": [
    "objetivo = quakers['gender'] == 'male'\n",
    "objetivo = objetivo.to_numpy().astype(float)\n",
    "print(objetivo)\n",
    "#El objetivo tras aplicarle el método numpy nos aseguramos de que esté en tipo float"
   ]
  },
  {
   "cell_type": "code",
   "execution_count": 39,
   "metadata": {},
   "outputs": [],
   "source": [
    "normalizador = keras.layers.experimental.preprocessing.Normalization()\n",
    "#El normalizador es una capa de normalización tras la capa de entrada para tipificar las variables.\n",
    "normalizador.adapt(atributos)"
   ]
  },
  {
   "cell_type": "code",
   "execution_count": 57,
   "metadata": {},
   "outputs": [
    {
     "name": "stdout",
     "output_type": "stream",
     "text": [
      "WARNING:tensorflow:Please add `keras.layers.InputLayer` instead of `keras.Input` to Sequential model. `keras.Input` is intended to be used by Functional model.\n",
      "Model: \"sequential_2\"\n",
      "_________________________________________________________________\n",
      "Layer (type)                 Output Shape              Param #   \n",
      "=================================================================\n",
      "normalization (Normalization (None, 2)                 5         \n",
      "_________________________________________________________________\n",
      "dense_2 (Dense)              (None, 2)                 6         \n",
      "=================================================================\n",
      "Total params: 11\n",
      "Trainable params: 6\n",
      "Non-trainable params: 5\n",
      "_________________________________________________________________\n"
     ]
    }
   ],
   "source": [
    "red_quakers = keras.Sequential()\n",
    "#Creamos la secuencia que necesitamso\n",
    "red_quakers.add(keras.Input(shape=(1,)))\n",
    "#Creamos la capa de entrada\n",
    "red_quakers.add(normalizador)\n",
    "#Creamos la capa de normalización\n",
    "red_quakers.add(keras.layers.Dense(2, activation='softmax'))\n",
    "#Aplicar la cantidad de capas neuronas y función de activación.\n",
    "red_quakers.summary()\n",
    "#Con summary obtenemos un resumen de nustro modelo.\n",
    "#El numero de parámetros no entrenables son los que permanecen igual durante el entrenamiento (mismo peso)."
   ]
  },
  {
   "cell_type": "code",
   "execution_count": 58,
   "metadata": {},
   "outputs": [],
   "source": [
    "red_quakers.compile(optimizer='SGD', loss='binary_crossentropy', metrics=['accuracy'])\n",
    "#Para entrenar una red neuronal hay que compilarla primero, estableciendo el algoritmo de aprendizaje (optimizer) \n",
    "#y la función de pérdida (loss) a minimizar\n",
    "#Compilamos aplicando la validación cruzada en el loss que es la función de pérdida a minimizar y como métrica le ponemos la\n",
    "#exactitud\n",
    "#SGD: algoritmo del descenso estocástico por el gradiente (stochastic gradient descent, SGD)."
   ]
  },
  {
   "cell_type": "code",
   "execution_count": 59,
   "metadata": {},
   "outputs": [
    {
     "name": "stdout",
     "output_type": "stream",
     "text": [
      "[[0 1]\n",
      " [0 1]\n",
      " [0 1]\n",
      " [1 0]\n",
      " [0 1]\n",
      " [0 1]\n",
      " [0 1]\n",
      " [0 1]\n",
      " [0 1]\n",
      " [0 1]\n",
      " [0 1]\n",
      " [0 1]\n",
      " [0 1]\n",
      " [1 0]\n",
      " [0 1]\n",
      " [0 1]\n",
      " [0 1]\n",
      " [1 0]\n",
      " [0 1]\n",
      " [0 1]\n",
      " [1 0]\n",
      " [1 0]\n",
      " [0 1]\n",
      " [0 1]\n",
      " [0 1]\n",
      " [0 1]\n",
      " [0 1]\n",
      " [0 1]\n",
      " [0 1]\n",
      " [0 1]\n",
      " [0 1]\n",
      " [0 1]\n",
      " [0 1]\n",
      " [0 1]\n",
      " [0 1]\n",
      " [0 1]\n",
      " [0 1]\n",
      " [1 0]\n",
      " [0 1]\n",
      " [0 1]\n",
      " [0 1]\n",
      " [0 1]\n",
      " [0 1]\n",
      " [0 1]\n",
      " [0 1]\n",
      " [0 1]\n",
      " [0 1]\n",
      " [0 1]\n",
      " [0 1]\n",
      " [0 1]\n",
      " [0 1]\n",
      " [0 1]\n",
      " [1 0]\n",
      " [0 1]\n",
      " [0 1]\n",
      " [1 0]\n",
      " [0 1]\n",
      " [1 0]\n",
      " [0 1]\n",
      " [1 0]\n",
      " [0 1]\n",
      " [0 1]\n",
      " [0 1]\n",
      " [0 1]\n",
      " [0 1]\n",
      " [0 1]\n",
      " [0 1]\n",
      " [0 1]\n",
      " [0 1]\n",
      " [0 1]\n",
      " [0 1]\n",
      " [0 1]\n",
      " [0 1]\n",
      " [0 1]\n",
      " [0 1]\n",
      " [0 1]\n",
      " [0 1]\n",
      " [1 0]\n",
      " [1 0]\n",
      " [0 1]\n",
      " [0 1]\n",
      " [1 0]\n",
      " [0 1]\n",
      " [0 1]\n",
      " [0 1]\n",
      " [0 1]\n",
      " [0 1]\n",
      " [1 0]\n",
      " [1 0]\n",
      " [0 1]\n",
      " [0 1]\n",
      " [0 1]\n",
      " [0 1]\n",
      " [0 1]\n",
      " [0 1]\n",
      " [0 1]\n",
      " [0 1]\n",
      " [1 0]\n",
      " [0 1]\n",
      " [1 0]\n",
      " [0 1]\n",
      " [0 1]\n",
      " [0 1]\n",
      " [1 0]\n",
      " [0 1]\n",
      " [0 1]\n",
      " [0 1]\n",
      " [1 0]\n",
      " [1 0]\n",
      " [0 1]\n",
      " [0 1]\n",
      " [1 0]\n",
      " [0 1]\n",
      " [0 1]\n",
      " [0 1]\n",
      " [0 1]\n",
      " [0 1]\n",
      " [0 1]\n",
      " [1 0]]\n"
     ]
    }
   ],
   "source": [
    "objetivo = quakers['gender']\n",
    "objetivo = pandas.get_dummies(objetivo)\n",
    "objetivo = objetivo.to_numpy()\n",
    "print(objetivo)\n",
    "#Adaptamos el objetivo"
   ]
  },
  {
   "cell_type": "code",
   "execution_count": 60,
   "metadata": {},
   "outputs": [
    {
     "name": "stdout",
     "output_type": "stream",
     "text": [
      "Epoch 1/10\n",
      "WARNING:tensorflow:Model was constructed with shape (None, 1) for input KerasTensor(type_spec=TensorSpec(shape=(None, 1), dtype=tf.float32, name='input_3'), name='input_3', description=\"created by layer 'input_3'\"), but it was called on an input with incompatible shape (None, 2).\n",
      "WARNING:tensorflow:Model was constructed with shape (None, 1) for input KerasTensor(type_spec=TensorSpec(shape=(None, 1), dtype=tf.float32, name='input_3'), name='input_3', description=\"created by layer 'input_3'\"), but it was called on an input with incompatible shape (None, 2).\n",
      "1/1 [==============================] - 1s 507ms/step - loss: 0.7169 - accuracy: 0.4874\n",
      "Epoch 2/10\n",
      "1/1 [==============================] - 0s 4ms/step - loss: 0.7163 - accuracy: 0.4874\n",
      "Epoch 3/10\n",
      "1/1 [==============================] - 0s 3ms/step - loss: 0.7157 - accuracy: 0.4874\n",
      "Epoch 4/10\n",
      "1/1 [==============================] - 0s 4ms/step - loss: 0.7151 - accuracy: 0.4874\n",
      "Epoch 5/10\n",
      "1/1 [==============================] - 0s 4ms/step - loss: 0.7145 - accuracy: 0.4874\n",
      "Epoch 6/10\n",
      "1/1 [==============================] - 0s 4ms/step - loss: 0.7139 - accuracy: 0.4874\n",
      "Epoch 7/10\n",
      "1/1 [==============================] - 0s 4ms/step - loss: 0.7133 - accuracy: 0.4874\n",
      "Epoch 8/10\n",
      "1/1 [==============================] - 0s 6ms/step - loss: 0.7127 - accuracy: 0.4874\n",
      "Epoch 9/10\n",
      "1/1 [==============================] - 0s 7ms/step - loss: 0.7121 - accuracy: 0.4874\n",
      "Epoch 10/10\n",
      "1/1 [==============================] - 0s 4ms/step - loss: 0.7116 - accuracy: 0.4622\n"
     ]
    },
    {
     "data": {
      "text/plain": [
       "<tensorflow.python.keras.callbacks.History at 0x26172817fc8>"
      ]
     },
     "execution_count": 60,
     "metadata": {},
     "output_type": "execute_result"
    }
   ],
   "source": [
    "red_quakers.fit(atributos, objetivo,\n",
    "               batch_size=300, epochs=10)  \n",
    "#batch: cada uno de los subconjuntos\n",
    "#epochs: numero de pasos para completar el entrenamiento hasta que el algoritmo acabe\n",
    "#Los lotes se construyen repartiendo aleatoriamente los ejemplos de entrenamiento y cuando se han considerado todos los lotes \n",
    "#(y, en consecuencia, todos los ejemplos) se dice que ha transcurrido una época (epoch)."
   ]
  },
  {
   "cell_type": "markdown",
   "metadata": {},
   "source": [
    "RELACIONAL"
   ]
  },
  {
   "cell_type": "code",
   "execution_count": 44,
   "metadata": {},
   "outputs": [
    {
     "name": "stdout",
     "output_type": "stream",
     "text": [
      "[[1.66300000e+03 1.73100000e+03 1.00131910e+07 1.00000000e+00\n",
      "  8.47457627e-03 0.00000000e+00 0.00000000e+00]\n",
      " [1.62100000e+03 1.69400000e+03 1.00111490e+07 1.00000000e+00\n",
      "  8.47457627e-03 0.00000000e+00 0.00000000e+00]\n",
      " [1.67400000e+03 1.75100000e+03 1.00075670e+07 4.00000000e+00\n",
      "  3.38983051e-02 3.33333333e-01 2.69448066e-02]\n",
      " [1.65600000e+03 1.65900000e+03 1.00039830e+07 1.00000000e+00\n",
      "  8.47457627e-03 0.00000000e+00 0.00000000e+00]\n",
      " [1.62600000e+03 1.69700000e+03 1.00111520e+07 1.00000000e+00\n",
      "  8.47457627e-03 0.00000000e+00 0.00000000e+00]\n",
      " [1.63000000e+03 1.71300000e+03 1.00085950e+07 1.00000000e+00\n",
      "  8.47457627e-03 0.00000000e+00 0.00000000e+00]\n",
      " [1.63000000e+03 1.69100000e+03 1.00106430e+07 2.00000000e+00\n",
      "  1.69491525e-02 1.00000000e+00 0.00000000e+00]\n",
      " [1.62100000e+03 1.68800000e+03 1.00034780e+07 3.00000000e+00\n",
      "  2.54237288e-02 1.00000000e+00 0.00000000e+00]\n",
      " [1.63000000e+03 1.66400000e+03 1.00004110e+07 6.00000000e+00\n",
      "  5.08474576e-02 2.00000000e-01 4.16493634e-02]\n",
      " [1.64900000e+03 1.72300000e+03 1.00024690e+07 2.00000000e+00\n",
      "  1.69491525e-02 0.00000000e+00 2.69448066e-02]\n",
      " [1.66300000e+03 1.75200000e+03 1.00014450e+07 3.00000000e+00\n",
      "  2.54237288e-02 6.66666667e-01 6.76034574e-04]\n",
      " [1.68700000e+03 1.75000000e+03 1.00009330e+07 1.00000000e+00\n",
      "  8.47457627e-03 0.00000000e+00 0.00000000e+00]\n",
      " [1.65400000e+03 1.72500000e+03 1.00009340e+07 1.00000000e+00\n",
      "  8.47457627e-03 0.00000000e+00 0.00000000e+00]\n",
      " [1.63700000e+03 1.70400000e+03 1.00132260e+07 1.00000000e+00\n",
      "  8.47457627e-03 0.00000000e+00 0.00000000e+00]\n",
      " [1.55100000e+03 1.66100000e+03 1.00045230e+07 1.00000000e+00\n",
      "  8.47457627e-03 0.00000000e+00 0.00000000e+00]\n",
      " [1.62400000e+03 1.69100000e+03 1.00045240e+07 2.20000000e+01\n",
      "  1.86440678e-01 9.95670996e-02 2.36832577e-01]\n",
      " [1.61800000e+03 1.67500000e+03 1.00116950e+07 5.00000000e+00\n",
      "  4.23728814e-02 2.00000000e-01 2.43165940e-02]\n",
      " [1.62700000e+03 1.70500000e+03 1.00019670e+07 2.00000000e+00\n",
      "  1.69491525e-02 0.00000000e+00 8.46250423e-04]\n",
      " [1.60500000e+03 1.65700000e+03 1.00019680e+07 4.00000000e+00\n",
      "  3.38983051e-02 3.33333333e-01 1.76372592e-03]\n",
      " [1.64000000e+03 1.70800000e+03 1.00019690e+07 3.00000000e+00\n",
      "  2.54237288e-02 0.00000000e+00 4.18762029e-03]\n",
      " [1.61800000e+03 1.69200000e+03 1.00040360e+07 1.00000000e+00\n",
      "  8.47457627e-03 0.00000000e+00 0.00000000e+00]\n",
      " [1.68300000e+03 1.76100000e+03 1.00071100e+07 1.00000000e+00\n",
      "  8.47457627e-03 0.00000000e+00 0.00000000e+00]\n",
      " [1.63100000e+03 1.70400000e+03 1.00025040e+07 2.00000000e+00\n",
      "  1.69491525e-02 0.00000000e+00 1.59488973e-03]\n",
      " [1.63300000e+03 1.72000000e+03 1.00076260e+07 1.00000000e+00\n",
      "  8.47457627e-03 0.00000000e+00 0.00000000e+00]\n",
      " [1.56900000e+03 1.67900000e+03 1.00009720e+07 2.00000000e+00\n",
      "  1.69491525e-02 1.00000000e+00 0.00000000e+00]\n",
      " [1.62800000e+03 1.69200000e+03 1.00030220e+07 3.00000000e+00\n",
      "  2.54237288e-02 6.66666667e-01 3.85098266e-04]\n",
      " [1.63400000e+03 1.68700000e+03 1.00025130e+07 2.00000000e+00\n",
      "  1.69491525e-02 0.00000000e+00 1.25321634e-02]\n",
      " [1.62600000e+03 1.66600000e+03 1.00061000e+07 2.00000000e+00\n",
      "  1.69491525e-02 0.00000000e+00 1.36172679e-02]\n",
      " [1.66500000e+03 1.74500000e+03 1.00045640e+07 1.00000000e+00\n",
      "  8.47457627e-03 0.00000000e+00 0.00000000e+00]\n",
      " [1.62000000e+03 1.67900000e+03 1.00117420e+07 1.00000000e+00\n",
      "  8.47457627e-03 0.00000000e+00 0.00000000e+00]\n",
      " [1.62700000e+03 1.71300000e+03 1.00081610e+07 2.00000000e+00\n",
      "  1.69491525e-02 1.00000000e+00 0.00000000e+00]\n",
      " [1.67300000e+03 1.73800000e+03 1.00096970e+07 1.00000000e+00\n",
      "  8.47457627e-03 0.00000000e+00 0.00000000e+00]\n",
      " [1.61600000e+03 1.69900000e+03 1.00030630e+07 4.00000000e+00\n",
      "  3.38983051e-02 8.33333333e-01 1.62972621e-04]\n",
      " [1.62600000e+03 1.70500000e+03 1.00071660e+07 2.00000000e+00\n",
      "  1.69491525e-02 0.00000000e+00 5.80837869e-04]\n",
      " [1.63500000e+03 1.68100000e+03 1.00061460e+07 1.00000000e+00\n",
      "  8.47457627e-03 0.00000000e+00 0.00000000e+00]\n",
      " [1.68300000e+03 1.75700000e+03 1.00010270e+07 2.00000000e+00\n",
      "  1.69491525e-02 0.00000000e+00 1.36172679e-02]\n",
      " [1.61800000e+03 1.66000000e+03 1.00087130e+07 1.60000000e+01\n",
      "  1.35593220e-01 1.58333333e-01 1.04460263e-01]\n",
      " [1.56200000e+03 1.67200000e+03 1.00061530e+07 1.00000000e+00\n",
      "  8.47457627e-03 0.00000000e+00 0.00000000e+00]\n",
      " [1.63700000e+03 1.72400000e+03 1.00128130e+07 1.30000000e+01\n",
      "  1.10169492e-01 7.69230769e-02 1.26320248e-01]\n",
      " [1.63000000e+03 1.69600000e+03 1.00128150e+07 1.00000000e+00\n",
      "  8.47457627e-03 0.00000000e+00 0.00000000e+00]\n",
      " [1.62800000e+03 1.71100000e+03 1.00030870e+07 2.00000000e+00\n",
      "  1.69491525e-02 1.00000000e+00 0.00000000e+00]\n",
      " [1.63600000e+03 1.71400000e+03 1.00046250e+07 1.00000000e+01\n",
      "  8.47457627e-02 2.00000000e-01 6.41962618e-02]\n",
      " [1.69100000e+03 1.76500000e+03 1.00010410e+07 1.00000000e+00\n",
      "  8.47457627e-03 0.00000000e+00 0.00000000e+00]\n",
      " [1.60700000e+03 1.67900000e+03 1.00102600e+07 2.00000000e+00\n",
      "  1.69491525e-02 1.00000000e+00 0.00000000e+00]\n",
      " [1.65600000e+03 1.72200000e+03 1.00128290e+07 1.00000000e+00\n",
      "  8.47457627e-03 0.00000000e+00 0.00000000e+00]\n",
      " [1.61400000e+03 1.68600000e+03 1.00118110e+07 2.00000000e+00\n",
      "  1.69491525e-02 0.00000000e+00 1.44864552e-04]\n",
      " [1.63000000e+03 1.69100000e+03 1.00072100e+07 2.00000000e+00\n",
      "  1.69491525e-02 1.00000000e+00 0.00000000e+00]\n",
      " [1.63000000e+03 1.66600000e+03 1.00041410e+07 6.00000000e+00\n",
      "  5.08474576e-02 3.33333333e-01 6.71976067e-03]\n",
      " [1.60100000e+03 1.67800000e+03 1.00026060e+07 1.00000000e+00\n",
      "  8.47457627e-03 0.00000000e+00 0.00000000e+00]\n",
      " [1.61700000e+03 1.68200000e+03 1.00118240e+07 1.00000000e+00\n",
      "  8.47457627e-03 0.00000000e+00 0.00000000e+00]\n",
      " [1.59000000e+03 1.70000000e+03 1.00123500e+07 1.00000000e+00\n",
      "  8.47457627e-03 0.00000000e+00 0.00000000e+00]\n",
      " [1.64800000e+03 1.69000000e+03 1.00548480e+07 3.00000000e+00\n",
      "  2.54237288e-02 3.33333333e-01 2.69448066e-02]\n",
      " [1.63100000e+03 1.71100000e+03 1.00113310e+07 1.00000000e+00\n",
      "  8.47457627e-03 0.00000000e+00 0.00000000e+00]\n",
      " [1.66600000e+03 1.74900000e+03 1.00113320e+07 3.00000000e+00\n",
      "  2.54237288e-02 3.33333333e-01 1.36172679e-02]\n",
      " [1.62400000e+03 1.70100000e+03 1.00041690e+07 1.00000000e+00\n",
      "  8.47457627e-03 0.00000000e+00 0.00000000e+00]\n",
      " [1.61400000e+03 1.70200000e+03 1.00041700e+07 1.30000000e+01\n",
      "  1.10169492e-01 1.02564103e-01 1.21067922e-01]\n",
      " [1.55800000e+03 1.66800000e+03 1.00010970e+07 1.00000000e+00\n",
      "  8.47457627e-03 0.00000000e+00 0.00000000e+00]\n",
      " [1.55500000e+03 1.66500000e+03 1.00072460e+07 2.00000000e+00\n",
      "  1.69491525e-02 0.00000000e+00 2.69448066e-02]\n",
      " [1.60200000e+03 1.71200000e+03 1.00031610e+07 5.00000000e+00\n",
      "  4.23728814e-02 2.00000000e-01 2.67297517e-02]\n",
      " [1.61900000e+03 1.67900000e+03 1.00031620e+07 1.00000000e+00\n",
      "  8.47457627e-03 0.00000000e+00 0.00000000e+00]\n",
      " [1.62800000e+03 1.68900000e+03 1.00093070e+07 6.00000000e+00\n",
      "  5.08474576e-02 6.66666667e-02 3.89367614e-02]\n",
      " [1.65200000e+03 1.68300000e+03 1.00128930e+07 5.00000000e+00\n",
      "  4.23728814e-02 1.00000000e-01 2.05611087e-02]\n",
      " [1.61600000e+03 1.66000000e+03 1.00000990e+07 1.00000000e+00\n",
      "  8.47457627e-03 0.00000000e+00 0.00000000e+00]\n",
      " [1.61000000e+03 1.68600000e+03 1.00006210e+07 2.00000000e+00\n",
      "  1.69491525e-02 0.00000000e+00 1.36172679e-02]\n",
      " [1.68200000e+03 1.76900000e+03 1.00006220e+07 1.00000000e+00\n",
      "  8.47457627e-03 0.00000000e+00 0.00000000e+00]\n",
      " [1.66600000e+03 1.74300000e+03 1.00124030e+07 2.00000000e+00\n",
      "  1.69491525e-02 0.00000000e+00 1.36172679e-02]\n",
      " [1.63800000e+03 1.71600000e+03 1.00067840e+07 8.00000000e+00\n",
      "  6.77966102e-02 2.85714286e-01 4.50065640e-02]\n",
      " [1.63600000e+03 1.65600000e+03 1.00093470e+07 2.00000000e+00\n",
      "  1.69491525e-02 1.00000000e+00 0.00000000e+00]\n",
      " [1.69400000e+03 1.76800000e+03 1.00026940e+07 2.00000000e+00\n",
      "  1.69491525e-02 1.00000000e+00 0.00000000e+00]\n",
      " [1.61400000e+03 1.69800000e+03 1.00057810e+07 2.00000000e+00\n",
      "  1.69491525e-02 1.00000000e+00 0.00000000e+00]\n",
      " [1.63600000e+03 1.66500000e+03 1.00022030e+07 5.00000000e+00\n",
      "  4.23728814e-02 2.00000000e-01 1.87311015e-02]\n",
      " [1.61800000e+03 1.66900000e+03 1.00063050e+07 7.00000000e+00\n",
      "  5.93220339e-02 3.33333333e-01 1.46896105e-02]\n",
      " [1.62800000e+03 1.66200000e+03 1.00063140e+07 2.00000000e+00\n",
      "  1.69491525e-02 0.00000000e+00 6.90003656e-04]\n",
      " [1.55200000e+03 1.66200000e+03 1.00001750e+07 1.00000000e+00\n",
      "  8.47457627e-03 0.00000000e+00 0.00000000e+00]\n",
      " [1.60100000e+03 1.71100000e+03 1.00104170e+07 2.00000000e+00\n",
      "  1.69491525e-02 0.00000000e+00 5.89115843e-04]\n",
      " [1.67100000e+03 1.73500000e+03 1.00088840e+07 1.00000000e+00\n",
      "  8.47457627e-03 0.00000000e+00 0.00000000e+00]\n",
      " [1.64300000e+03 1.70700000e+03 1.00109410e+07 3.00000000e+00\n",
      "  2.54237288e-02 0.00000000e+00 4.32196492e-03]\n",
      " [1.62300000e+03 1.69800000e+03 1.00042900e+07 2.00000000e+00\n",
      "  1.69491525e-02 1.00000000e+00 0.00000000e+00]\n",
      " [1.63100000e+03 1.67900000e+03 1.00027550e+07 1.00000000e+00\n",
      "  8.47457627e-03 0.00000000e+00 0.00000000e+00]\n",
      " [1.60400000e+03 1.66500000e+03 1.00042920e+07 1.00000000e+00\n",
      "  8.47457627e-03 0.00000000e+00 0.00000000e+00]\n",
      " [1.64000000e+03 1.72700000e+03 1.00017370e+07 2.00000000e+00\n",
      "  1.69491525e-02 0.00000000e+00 1.36172679e-02]\n",
      " [1.63400000e+03 1.65900000e+03 1.00048110e+07 1.00000000e+00\n",
      "  8.47457627e-03 0.00000000e+00 0.00000000e+00]\n",
      " [1.65000000e+03 1.69600000e+03 1.00119890e+07 2.00000000e+00\n",
      "  1.69491525e-02 1.00000000e+00 0.00000000e+00]\n",
      " [1.65500000e+03 1.66000000e+03 1.00089170e+07 1.00000000e+00\n",
      "  8.47457627e-03 0.00000000e+00 0.00000000e+00]\n",
      " [1.62800000e+03 1.68400000e+03 1.00048270e+07 1.00000000e+00\n",
      "  8.47457627e-03 0.00000000e+00 0.00000000e+00]\n",
      " [1.69300000e+03 1.76700000e+03 1.00125090e+07 1.00000000e+00\n",
      "  8.47457627e-03 0.00000000e+00 0.00000000e+00]\n",
      " [1.67200000e+03 1.74000000e+03 1.00125100e+07 1.00000000e+00\n",
      "  8.47457627e-03 0.00000000e+00 0.00000000e+00]\n",
      " [1.67600000e+03 1.76200000e+03 1.00022740e+07 1.00000000e+00\n",
      "  8.47457627e-03 0.00000000e+00 0.00000000e+00]\n",
      " [1.56900000e+03 1.67900000e+03 1.00099590e+07 2.00000000e+00\n",
      "  1.69491525e-02 1.00000000e+00 0.00000000e+00]\n",
      " [1.69900000e+03 1.77700000e+03 1.00007450e+07 2.00000000e+00\n",
      "  1.69491525e-02 1.00000000e+00 0.00000000e+00]\n",
      " [1.65800000e+03 1.70900000e+03 1.00053590e+07 1.00000000e+00\n",
      "  8.47457627e-03 0.00000000e+00 0.00000000e+00]\n",
      " [1.62500000e+03 1.69700000e+03 1.00002430e+07 1.00000000e+00\n",
      "  8.47457627e-03 0.00000000e+00 0.00000000e+00]\n",
      " [1.58500000e+03 1.69500000e+03 1.00104880e+07 1.00000000e+00\n",
      "  8.47457627e-03 0.00000000e+00 0.00000000e+00]\n",
      " [1.62700000e+03 1.66600000e+03 1.00094700e+07 5.00000000e+00\n",
      "  4.23728814e-02 4.00000000e-01 1.52280237e-02]\n",
      " [1.61700000e+03 1.68200000e+03 1.00038590e+07 2.00000000e+00\n",
      "  1.69491525e-02 1.00000000e+00 0.00000000e+00]\n",
      " [1.63100000e+03 1.69000000e+03 1.00018150e+07 4.00000000e+00\n",
      "  3.38983051e-02 0.00000000e+00 2.89741175e-02]\n",
      " [1.63300000e+03 1.66300000e+03 1.00018180e+07 9.00000000e+00\n",
      "  7.62711864e-02 3.33333333e-01 1.53386709e-02]\n",
      " [1.60900000e+03 1.68800000e+03 1.00120620e+07 4.00000000e+00\n",
      "  3.38983051e-02 3.33333333e-01 1.80942723e-02]\n",
      " [1.62700000e+03 1.71200000e+03 1.00038820e+07 2.00000000e+00\n",
      "  1.69491525e-02 0.00000000e+00 2.77312142e-03]\n",
      " [1.60800000e+03 1.66400000e+03 1.00023540e+07 1.00000000e+00\n",
      "  8.47457627e-03 0.00000000e+00 0.00000000e+00]\n",
      " [1.56000000e+03 1.67000000e+03 1.00100360e+07 2.00000000e+00\n",
      "  1.69491525e-02 1.00000000e+00 0.00000000e+00]\n",
      " [1.64800000e+03 1.72400000e+03 1.00100370e+07 2.00000000e+00\n",
      "  1.69491525e-02 0.00000000e+00 1.36172679e-02]\n",
      " [1.65500000e+03 1.71000000e+03 1.00095260e+07 1.00000000e+00\n",
      "  8.47457627e-03 0.00000000e+00 0.00000000e+00]\n",
      " [1.62300000e+03 1.68200000e+03 1.00095270e+07 4.00000000e+00\n",
      "  3.38983051e-02 1.66666667e-01 2.42082462e-02]\n",
      " [1.63700000e+03 1.69800000e+03 1.00079920e+07 3.00000000e+00\n",
      "  2.54237288e-02 3.33333333e-01 1.40449632e-03]\n",
      " [1.63300000e+03 1.70700000e+03 1.00131120e+07 1.00000000e+00\n",
      "  8.47457627e-03 0.00000000e+00 0.00000000e+00]\n",
      " [1.64400000e+03 1.71800000e+03 1.00095310e+07 1.80000000e+01\n",
      "  1.52542373e-01 6.53594771e-02 2.39994560e-01]\n",
      " [1.63000000e+03 1.70100000e+03 1.00095350e+07 1.00000000e+00\n",
      "  8.47457627e-03 0.00000000e+00 0.00000000e+00]\n",
      " [1.63600000e+03 1.66600000e+03 1.00126140e+07 1.00000000e+00\n",
      "  8.47457627e-03 0.00000000e+00 0.00000000e+00]\n",
      " [1.65600000e+03 1.73100000e+03 1.00075090e+07 2.00000000e+00\n",
      "  1.69491525e-02 1.00000000e+00 0.00000000e+00]\n",
      " [1.67100000e+03 1.74600000e+03 1.00085340e+07 1.00000000e+00\n",
      "  8.47457627e-03 0.00000000e+00 0.00000000e+00]\n",
      " [1.62400000e+03 1.66500000e+03 1.00111000e+07 3.00000000e+00\n",
      "  2.54237288e-02 6.66666667e-01 3.50089333e-04]\n",
      " [1.57100000e+03 1.68100000e+03 1.00116130e+07 6.00000000e+00\n",
      "  5.08474576e-02 1.33333333e-01 2.89900986e-02]\n",
      " [1.67000000e+03 1.74200000e+03 1.00116140e+07 1.00000000e+00\n",
      "  8.47457627e-03 0.00000000e+00 0.00000000e+00]\n",
      " [1.63900000e+03 1.71300000e+03 1.00039450e+07 8.00000000e+00\n",
      "  6.77966102e-02 1.78571429e-01 4.61906239e-02]\n",
      " [1.62700000e+03 1.67100000e+03 1.00111140e+07 1.00000000e+00\n",
      "  8.47457627e-03 0.00000000e+00 0.00000000e+00]\n",
      " [1.67700000e+03 1.75300000e+03 1.00013900e+07 1.00000000e+00\n",
      "  8.47457627e-03 0.00000000e+00 0.00000000e+00]\n",
      " [1.55500000e+03 1.66500000e+03 1.00095840e+07 7.00000000e+00\n",
      "  5.93220339e-02 3.33333333e-01 2.82956685e-02]\n",
      " [1.65600000e+03 1.67100000e+03 1.00116320e+07 2.00000000e+00\n",
      "  1.69491525e-02 1.00000000e+00 0.00000000e+00]]\n"
     ]
    }
   ],
   "source": [
    "atributos_relacional = atributos_relacional.to_numpy()\n",
    "print(atributos_relacional)"
   ]
  },
  {
   "cell_type": "code",
   "execution_count": 45,
   "metadata": {},
   "outputs": [
    {
     "name": "stdout",
     "output_type": "stream",
     "text": [
      "[1. 1. 1. 0. 1. 1. 1. 1. 1. 1. 1. 1. 1. 0. 1. 1. 1. 0. 1. 1. 0. 0. 1. 1.\n",
      " 1. 1. 1. 1. 1. 1. 1. 1. 1. 1. 1. 1. 1. 0. 1. 1. 1. 1. 1. 1. 1. 1. 1. 1.\n",
      " 1. 1. 1. 1. 0. 1. 1. 0. 1. 0. 1. 0. 1. 1. 1. 1. 1. 1. 1. 1. 1. 1. 1. 1.\n",
      " 1. 1. 1. 1. 1. 0. 0. 1. 1. 0. 1. 1. 1. 1. 1. 0. 0. 1. 1. 1. 1. 1. 1. 1.\n",
      " 1. 0. 1. 0. 1. 1. 1. 0. 1. 1. 1. 0. 0. 1. 1. 0. 1. 1. 1. 1. 1. 1. 0.]\n"
     ]
    }
   ],
   "source": [
    "objetivo_relacional = quakers_relacional['gender']=='male'\n",
    "objetivo_relacional = objetivo_relacional.to_numpy().astype(float)\n",
    "print(objetivo_relacional)\n",
    "normalizador_r = keras.layers.experimental.preprocessing.Normalization()\n",
    "normalizador_r.adapt(atributos_relacional)"
   ]
  },
  {
   "cell_type": "code",
   "execution_count": 46,
   "metadata": {},
   "outputs": [
    {
     "name": "stdout",
     "output_type": "stream",
     "text": [
      "WARNING:tensorflow:Please add `keras.layers.InputLayer` instead of `keras.Input` to Sequential model. `keras.Input` is intended to be used by Functional model.\n",
      "Model: \"sequential_1\"\n",
      "_________________________________________________________________\n",
      "Layer (type)                 Output Shape              Param #   \n",
      "=================================================================\n",
      "normalization_1 (Normalizati (None, 7)                 15        \n",
      "_________________________________________________________________\n",
      "dense_1 (Dense)              (None, 2)                 16        \n",
      "=================================================================\n",
      "Total params: 31\n",
      "Trainable params: 16\n",
      "Non-trainable params: 15\n",
      "_________________________________________________________________\n"
     ]
    }
   ],
   "source": [
    "red_quakers_r = keras.Sequential()\n",
    "red_quakers_r.add(keras.Input(shape=(1,)))\n",
    "red_quakers_r.add(normalizador_r)\n",
    "#red_quakers.add(keras.layers.Dense(2, activation='sigmoid'))\n",
    "red_quakers_r.add(keras.layers.Dense(2, activation='softmax'))\n",
    "red_quakers_r.summary()"
   ]
  },
  {
   "cell_type": "code",
   "execution_count": 47,
   "metadata": {},
   "outputs": [],
   "source": [
    "red_quakers_r.compile(optimizer='SGD', loss='binary_crossentropy', metrics=['accuracy'])"
   ]
  },
  {
   "cell_type": "code",
   "execution_count": 48,
   "metadata": {},
   "outputs": [
    {
     "name": "stdout",
     "output_type": "stream",
     "text": [
      "[[0 1]\n",
      " [0 1]\n",
      " [0 1]\n",
      " [1 0]\n",
      " [0 1]\n",
      " [0 1]\n",
      " [0 1]\n",
      " [0 1]\n",
      " [0 1]\n",
      " [0 1]\n",
      " [0 1]\n",
      " [0 1]\n",
      " [0 1]\n",
      " [1 0]\n",
      " [0 1]\n",
      " [0 1]\n",
      " [0 1]\n",
      " [1 0]\n",
      " [0 1]\n",
      " [0 1]\n",
      " [1 0]\n",
      " [1 0]\n",
      " [0 1]\n",
      " [0 1]\n",
      " [0 1]\n",
      " [0 1]\n",
      " [0 1]\n",
      " [0 1]\n",
      " [0 1]\n",
      " [0 1]\n",
      " [0 1]\n",
      " [0 1]\n",
      " [0 1]\n",
      " [0 1]\n",
      " [0 1]\n",
      " [0 1]\n",
      " [0 1]\n",
      " [1 0]\n",
      " [0 1]\n",
      " [0 1]\n",
      " [0 1]\n",
      " [0 1]\n",
      " [0 1]\n",
      " [0 1]\n",
      " [0 1]\n",
      " [0 1]\n",
      " [0 1]\n",
      " [0 1]\n",
      " [0 1]\n",
      " [0 1]\n",
      " [0 1]\n",
      " [0 1]\n",
      " [1 0]\n",
      " [0 1]\n",
      " [0 1]\n",
      " [1 0]\n",
      " [0 1]\n",
      " [1 0]\n",
      " [0 1]\n",
      " [1 0]\n",
      " [0 1]\n",
      " [0 1]\n",
      " [0 1]\n",
      " [0 1]\n",
      " [0 1]\n",
      " [0 1]\n",
      " [0 1]\n",
      " [0 1]\n",
      " [0 1]\n",
      " [0 1]\n",
      " [0 1]\n",
      " [0 1]\n",
      " [0 1]\n",
      " [0 1]\n",
      " [0 1]\n",
      " [0 1]\n",
      " [0 1]\n",
      " [1 0]\n",
      " [1 0]\n",
      " [0 1]\n",
      " [0 1]\n",
      " [1 0]\n",
      " [0 1]\n",
      " [0 1]\n",
      " [0 1]\n",
      " [0 1]\n",
      " [0 1]\n",
      " [1 0]\n",
      " [1 0]\n",
      " [0 1]\n",
      " [0 1]\n",
      " [0 1]\n",
      " [0 1]\n",
      " [0 1]\n",
      " [0 1]\n",
      " [0 1]\n",
      " [0 1]\n",
      " [1 0]\n",
      " [0 1]\n",
      " [1 0]\n",
      " [0 1]\n",
      " [0 1]\n",
      " [0 1]\n",
      " [1 0]\n",
      " [0 1]\n",
      " [0 1]\n",
      " [0 1]\n",
      " [1 0]\n",
      " [1 0]\n",
      " [0 1]\n",
      " [0 1]\n",
      " [1 0]\n",
      " [0 1]\n",
      " [0 1]\n",
      " [0 1]\n",
      " [0 1]\n",
      " [0 1]\n",
      " [0 1]\n",
      " [1 0]]\n"
     ]
    }
   ],
   "source": [
    "objetivo_relacional = quakers_relacional['gender']\n",
    "objetivo_relacional = pandas.get_dummies(objetivo_relacional)\n",
    "objetivo_relacional = objetivo_relacional.to_numpy()\n",
    "print(objetivo_relacional)"
   ]
  },
  {
   "cell_type": "code",
   "execution_count": 49,
   "metadata": {},
   "outputs": [
    {
     "name": "stdout",
     "output_type": "stream",
     "text": [
      "Epoch 1/10\n",
      "WARNING:tensorflow:Model was constructed with shape (None, 1) for input KerasTensor(type_spec=TensorSpec(shape=(None, 1), dtype=tf.float32, name='input_2'), name='input_2', description=\"created by layer 'input_2'\"), but it was called on an input with incompatible shape (None, 7).\n",
      "WARNING:tensorflow:Model was constructed with shape (None, 1) for input KerasTensor(type_spec=TensorSpec(shape=(None, 1), dtype=tf.float32, name='input_2'), name='input_2', description=\"created by layer 'input_2'\"), but it was called on an input with incompatible shape (None, 7).\n",
      "1/1 [==============================] - 1s 547ms/step - loss: 0.8090 - accuracy: 0.5378\n",
      "Epoch 2/10\n",
      "1/1 [==============================] - 0s 6ms/step - loss: 0.8081 - accuracy: 0.5378\n",
      "Epoch 3/10\n",
      "1/1 [==============================] - 0s 3ms/step - loss: 0.8073 - accuracy: 0.5378\n",
      "Epoch 4/10\n",
      "1/1 [==============================] - 0s 5ms/step - loss: 0.8064 - accuracy: 0.5378\n",
      "Epoch 5/10\n",
      "1/1 [==============================] - 0s 2ms/step - loss: 0.8056 - accuracy: 0.5378\n",
      "Epoch 6/10\n",
      "1/1 [==============================] - 0s 3ms/step - loss: 0.8047 - accuracy: 0.5462\n",
      "Epoch 7/10\n",
      "1/1 [==============================] - 0s 7ms/step - loss: 0.8039 - accuracy: 0.5462\n",
      "Epoch 8/10\n",
      "1/1 [==============================] - 0s 3ms/step - loss: 0.8030 - accuracy: 0.5462\n",
      "Epoch 9/10\n",
      "1/1 [==============================] - 0s 4ms/step - loss: 0.8022 - accuracy: 0.5462\n",
      "Epoch 10/10\n",
      "1/1 [==============================] - 0s 9ms/step - loss: 0.8013 - accuracy: 0.5462\n"
     ]
    },
    {
     "data": {
      "text/plain": [
       "<tensorflow.python.keras.callbacks.History at 0x26172473208>"
      ]
     },
     "execution_count": 49,
     "metadata": {},
     "output_type": "execute_result"
    }
   ],
   "source": [
    "red_quakers_r.fit(atributos_relacional, objetivo_relacional,\n",
    "               batch_size=300, epochs=10) "
   ]
  },
  {
   "cell_type": "code",
   "execution_count": 50,
   "metadata": {},
   "outputs": [],
   "source": [
    "#Con el modelo relacional realizamos los mismos pasos que anteriormente.\n",
    "#Vemos que en este caso con el modelo relaxional la exactitud empeora al añadir las propiedades relacionales.\n",
    "#Seguramente sea porque el algoritmo necesite un mayor entrenamiento aumentando el número de capas y neuronas para obtener un\n",
    "#resultado similar a los demás modelos aplicados."
   ]
  },
  {
   "cell_type": "markdown",
   "metadata": {},
   "source": [
    "RANDOM FOREST"
   ]
  },
  {
   "cell_type": "code",
   "execution_count": 51,
   "metadata": {},
   "outputs": [],
   "source": [
    "import numpy as np\n",
    "from sklearn.ensemble import RandomForestClassifier\n",
    "from sklearn.model_selection import cross_val_score"
   ]
  },
  {
   "cell_type": "code",
   "execution_count": 52,
   "metadata": {},
   "outputs": [],
   "source": [
    "#Creamos un clasificador corresponiente con random forest\n",
    "clf = RandomForestClassifier()"
   ]
  },
  {
   "cell_type": "code",
   "execution_count": 53,
   "metadata": {},
   "outputs": [
    {
     "name": "stdout",
     "output_type": "stream",
     "text": [
      "Scores = [0.83333333 0.58333333 0.66666667 0.91666667 0.58333333 0.75\n",
      " 0.66666667 0.83333333 0.66666667 0.63636364]\n",
      "0.9166666666666666\n"
     ]
    }
   ],
   "source": [
    "#Usamos validación cruzada para obtener el score\n",
    "scores = cross_val_score(clf, atributos, objetivo, cv=10)\n",
    "print('Scores =', scores)\n",
    "print(max(scores))\n",
    "#De las exactitudes obtenidas nos quedamos con el valor más grande"
   ]
  },
  {
   "cell_type": "markdown",
   "metadata": {},
   "source": [
    "RELACIONAL"
   ]
  },
  {
   "cell_type": "code",
   "execution_count": 54,
   "metadata": {},
   "outputs": [],
   "source": [
    "clf_r = RandomForestClassifier()"
   ]
  },
  {
   "cell_type": "code",
   "execution_count": 55,
   "metadata": {},
   "outputs": [
    {
     "name": "stdout",
     "output_type": "stream",
     "text": [
      "Scores = [0.91666667 0.58333333 0.91666667 0.91666667 0.66666667 1.\n",
      " 0.66666667 0.83333333 0.58333333 0.72727273]\n",
      "1.0\n"
     ]
    }
   ],
   "source": [
    "scores_r = cross_val_score(clf_r, atributos_relacional, objetivo_relacional, cv=10)\n",
    "print('Scores =', scores_r)\n",
    "print(max(scores_r))"
   ]
  },
  {
   "cell_type": "code",
   "execution_count": 56,
   "metadata": {},
   "outputs": [],
   "source": [
    "#Vemos también que la exactitud es mayor en modelo relacional por tanto significa que al añadir las propiedades relacionales \n",
    "#al modelo mejora su exactitud."
   ]
  }
 ],
 "metadata": {
  "kernelspec": {
   "display_name": "Python 3",
   "language": "python",
   "name": "python3"
  },
  "language_info": {
   "codemirror_mode": {
    "name": "ipython",
    "version": 3
   },
   "file_extension": ".py",
   "mimetype": "text/x-python",
   "name": "python",
   "nbconvert_exporter": "python",
   "pygments_lexer": "ipython3",
   "version": "3.7.10"
  }
 },
 "nbformat": 4,
 "nbformat_minor": 2
}
